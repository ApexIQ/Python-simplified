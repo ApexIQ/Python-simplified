{
 "cells": [
  {
   "cell_type": "markdown",
   "id": "ae0d9c39-5232-4808-bd67-efd7d4f9f48f",
   "metadata": {},
   "source": [
    "# Set Comprehension"
   ]
  },
  {
   "cell_type": "markdown",
   "id": "da114523-f3f9-4713-b34e-6b0e9a59b126",
   "metadata": {},
   "source": [
    "Set comprehensions are similar to list comprehensions and dictionary comprehensions but\n",
    " are used to create sets."
   ]
  },
  {
   "cell_type": "markdown",
   "id": "6078a338-5e22-4eef-9ba6-102dc078ddb4",
   "metadata": {},
   "source": [
    "**Syntax:** {expression for item in iterable if condition}"
   ]
  },
  {
   "cell_type": "markdown",
   "id": "e9f7643c-2cfa-41f3-af62-caea110bf79d",
   "metadata": {},
   "source": [
    "##  1. Filtering Unique Words from a Sentence"
   ]
  },
  {
   "cell_type": "code",
   "execution_count": 2,
   "id": "323c0704-07cd-4ac1-9945-ed33aab5d87f",
   "metadata": {},
   "outputs": [
    {
     "name": "stdout",
     "output_type": "stream",
     "text": [
      "{'Techies,', 'python', 'if', 'Hello', 'code', 'learn.', 'its', 'to', 'syntax.', 'you', 'understand', 'easy', 'and', 'logic', 'is'}\n"
     ]
    }
   ],
   "source": [
    "# code in set method\n",
    "sentence = \"Hello Techies, python is easy to learn. if you understand its logic and code syntax.\"\n",
    "\n",
    "# Normal set construction\n",
    "unique_words = set()  \n",
    "for word in sentence.split():  \n",
    "    unique_words.add(word)  \n",
    "\n",
    "print(unique_words)"
   ]
  },
  {
   "cell_type": "code",
   "execution_count": 3,
   "id": "ce5b229a-f7e2-4cf7-a244-bc7998c44fc8",
   "metadata": {},
   "outputs": [
    {
     "name": "stdout",
     "output_type": "stream",
     "text": [
      "{'Techies,', 'python', 'if', 'Hello', 'code', 'learn.', 'its', 'to', 'syntax.', 'you', 'understand', 'easy', 'and', 'logic', 'is'}\n"
     ]
    }
   ],
   "source": [
    "# Set comprenhesion method\n",
    "\n",
    "sentence = \"Hello Techies, python is easy to learn. if you understand its logic and code syntax.\"\n",
    "unique_words = {word for word in sentence.split()}\n",
    "print(unique_words)"
   ]
  },
  {
   "cell_type": "markdown",
   "id": "e1e1fd11-d1c0-451f-9352-17930018e359",
   "metadata": {},
   "source": [
    "## 2. Extracting Unique Email Domains"
   ]
  },
  {
   "cell_type": "code",
   "execution_count": 6,
   "id": "167660c2-abce-46b4-8094-677988777655",
   "metadata": {},
   "outputs": [
    {
     "name": "stdout",
     "output_type": "stream",
     "text": [
      "{'yahoo.com', 'gmail.com', 'example.com', 'xmail.com', 'outlook.com'}\n"
     ]
    }
   ],
   "source": [
    "emails = [\"alice@example.com\", \"bob@gmail.com\", \"charlie@xmail.com\",\n",
    "          \"dave@yahoo.com\", \"eve@gmail.com\", \"youth@outlook.com\"]\n",
    "\n",
    "# Normal set construction\n",
    "unique_domains = set()\n",
    "for email in emails:\n",
    "  domain = email.split('@')[1]  # Extract the domain from the email\n",
    "  unique_domains.add(domain)     # Add the domain to the set\n",
    "\n",
    "print(unique_domains)"
   ]
  },
  {
   "cell_type": "code",
   "execution_count": 9,
   "id": "10ec3e35-ecd5-4b9e-a6bc-085d42ab60b2",
   "metadata": {},
   "outputs": [
    {
     "name": "stdout",
     "output_type": "stream",
     "text": [
      "{'yahoo.com', 'gmail.com', 'example.com', 'xmail.com', 'outlook.com'}\n"
     ]
    }
   ],
   "source": [
    "#set Comphrension method\n",
    "\n",
    "emails = [\"alice@example.com\", \"bob@gmail.com\", \"charlie@xmail.com\",\n",
    "          \"dave@yahoo.com\", \"eve@gmail.com\", \"youth@outlook.com\"]\n",
    "\n",
    "unique_domains = {email.split('@')[1] for email in emails}\n",
    "print(unique_domains)"
   ]
  },
  {
   "cell_type": "markdown",
   "id": "61a378ad-10ac-4e26-b1c9-8b5a1d29a864",
   "metadata": {},
   "source": [
    "## 3. Find Common Divisors"
   ]
  },
  {
   "cell_type": "code",
   "execution_count": 10,
   "id": "052ff69b-b3eb-4a32-adb2-91a566b9ac4c",
   "metadata": {},
   "outputs": [
    {
     "name": "stdout",
     "output_type": "stream",
     "text": [
      "{1, 2, 3, 6}\n"
     ]
    }
   ],
   "source": [
    "# Set method()\n",
    "\n",
    "# List of numbers\n",
    "numbers = [12, 18, 24]\n",
    "\n",
    "# Function to find divisors of a number\n",
    "def find_divisors(n):\n",
    "    return {i for i in range(1, n + 1) if n % i == 0}\n",
    "\n",
    "# Normal set construction to find common divisors\n",
    "common_divisors = find_divisors(numbers[0])  # Start with divisors of the first number\n",
    "for num in numbers[1:]:\n",
    "    common_divisors = common_divisors.intersection(find_divisors(num))  # Intersect with divisors of other numbers\n",
    "\n",
    "print(common_divisors)"
   ]
  },
  {
   "cell_type": "code",
   "execution_count": 11,
   "id": "a05f6f22-cf15-49e9-8d11-97a65c14320a",
   "metadata": {},
   "outputs": [
    {
     "name": "stdout",
     "output_type": "stream",
     "text": [
      "{1, 2, 3, 6}\n"
     ]
    }
   ],
   "source": [
    "# List of numbers\n",
    "numbers = [12, 18, 24]\n",
    "\n",
    "# Function to find divisors of a number\n",
    "def find_divisors(n):\n",
    "    return {i for i in range(1, n + 1) if n % i == 0}\n",
    "\n",
    "# Set comprehension to find common divisors\n",
    "common_divisors = set.intersection(*(find_divisors(num) for num in numbers))\n",
    "print(common_divisors)"
   ]
  },
  {
   "cell_type": "markdown",
   "id": "acfca454-aa96-4b99-a77a-d9d7339f12ad",
   "metadata": {},
   "source": [
    " **Problem Statement:**\n",
    " You are given a list of student names in an education institute's database. The names have\n",
    " varying capitalizations and extra whitespace. Your task is to clean up this list by normalizing\n",
    " the student names to lowercase and stripping any leading or trailing whitespace, then\n",
    " storing the unique student names in a set."
   ]
  },
  {
   "cell_type": "code",
   "execution_count": 12,
   "id": "172644d4-d47f-43f5-ab86-d7763ea72f27",
   "metadata": {},
   "outputs": [
    {
     "name": "stdout",
     "output_type": "stream",
     "text": [
      "{'john doe', 'jane smith', 'alice johnson'}\n"
     ]
    }
   ],
   "source": [
    "# List of student names with varying capitalizations and whitespace\n",
    "students = [\" John Doe\", \"jane smith \", \"Alice Johnson \", \"john doe\",\"JANE SMITH\", \" Alice johnson \"]\n",
    "\n",
    "# Set comprehension to clean and store unique student names\n",
    "cleaned_students = {student.strip().lower() for student in students}\n",
    "print(cleaned_students)"
   ]
  },
  {
   "cell_type": "code",
   "execution_count": null,
   "id": "3cb19ef6-f949-4e20-a852-68f86d0da3a3",
   "metadata": {},
   "outputs": [],
   "source": []
  }
 ],
 "metadata": {
  "kernelspec": {
   "display_name": "Python 3 (ipykernel)",
   "language": "python",
   "name": "python3"
  },
  "language_info": {
   "codemirror_mode": {
    "name": "ipython",
    "version": 3
   },
   "file_extension": ".py",
   "mimetype": "text/x-python",
   "name": "python",
   "nbconvert_exporter": "python",
   "pygments_lexer": "ipython3",
   "version": "3.11.7"
  }
 },
 "nbformat": 4,
 "nbformat_minor": 5
}
