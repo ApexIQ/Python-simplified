{
 "cells": [
  {
   "cell_type": "markdown",
   "id": "4ddd4a11-0a27-4bb1-b514-74926fc1d56b",
   "metadata": {},
   "source": [
    "# Dictionaries"
   ]
  },
  {
   "cell_type": "code",
   "execution_count": 2,
   "id": "36deb274-cbe4-434c-940a-a004a4aeb417",
   "metadata": {},
   "outputs": [
    {
     "name": "stdout",
     "output_type": "stream",
     "text": [
      "{'name': 'Saikumar', 'age': 23, 'courses': ['Data Science', 'AI']}\n"
     ]
    }
   ],
   "source": [
    "# Creating a dictionary\n",
    "student = {\n",
    " \"name\": \"Saikumar\",\n",
    " \"age\": 23,\n",
    " \"courses\": [\"Data Science\", \"AI\"]\n",
    " }\n",
    "print(student)"
   ]
  },
  {
   "cell_type": "code",
   "execution_count": 3,
   "id": "a00a908f-9fc8-4d56-8de9-a3b514537d2d",
   "metadata": {},
   "outputs": [
    {
     "data": {
      "text/plain": [
       "dict"
      ]
     },
     "execution_count": 3,
     "metadata": {},
     "output_type": "execute_result"
    }
   ],
   "source": [
    "type(student)"
   ]
  },
  {
   "cell_type": "markdown",
   "id": "9cb1f3d3-519c-44bd-91f3-93eaae7f1099",
   "metadata": {},
   "source": [
    "## Accessing elements"
   ]
  },
  {
   "cell_type": "code",
   "execution_count": 4,
   "id": "df17c4e5-d43d-4cc4-a6bc-b2badd917f87",
   "metadata": {},
   "outputs": [
    {
     "data": {
      "text/plain": [
       "'Saikumar'"
      ]
     },
     "execution_count": 4,
     "metadata": {},
     "output_type": "execute_result"
    }
   ],
   "source": [
    "student[\"name\"]"
   ]
  },
  {
   "cell_type": "code",
   "execution_count": 5,
   "id": "c2ea7b45-0fd1-4e10-af52-0b8949e41713",
   "metadata": {},
   "outputs": [
    {
     "data": {
      "text/plain": [
       "['Data Science', 'AI']"
      ]
     },
     "execution_count": 5,
     "metadata": {},
     "output_type": "execute_result"
    }
   ],
   "source": [
    "student[\"courses\"]"
   ]
  },
  {
   "cell_type": "markdown",
   "id": "52625342-25ac-41a3-9f71-cbcc142df1cf",
   "metadata": {},
   "source": [
    "## Modifying Dict"
   ]
  },
  {
   "cell_type": "code",
   "execution_count": 6,
   "id": "2c823df8-0170-429f-a16d-7459e49750aa",
   "metadata": {},
   "outputs": [],
   "source": [
    "# Modifying a value\n",
    "student[\"age\"] = 21"
   ]
  },
  {
   "cell_type": "code",
   "execution_count": 7,
   "id": "9f2b2325-04d0-4fee-ba47-e6400aebb217",
   "metadata": {},
   "outputs": [
    {
     "data": {
      "text/plain": [
       "{'name': 'Saikumar', 'age': 21, 'courses': ['Data Science', 'AI']}"
      ]
     },
     "execution_count": 7,
     "metadata": {},
     "output_type": "execute_result"
    }
   ],
   "source": [
    "student"
   ]
  },
  {
   "cell_type": "code",
   "execution_count": 10,
   "id": "41d23b88-0f5c-4c79-899d-1d8d29976949",
   "metadata": {},
   "outputs": [],
   "source": [
    " # Adding a new key-value pair\n",
    "student[\"graduated\"] = True "
   ]
  },
  {
   "cell_type": "code",
   "execution_count": 11,
   "id": "8b7a1759-c206-4b1b-9001-fc04a2430fa8",
   "metadata": {},
   "outputs": [
    {
     "data": {
      "text/plain": [
       "{'name': 'Saikumar',\n",
       " 'age': 21,\n",
       " 'courses': ['Data Science', 'AI'],\n",
       " 'graduated': True}"
      ]
     },
     "execution_count": 11,
     "metadata": {},
     "output_type": "execute_result"
    }
   ],
   "source": [
    "student"
   ]
  },
  {
   "cell_type": "code",
   "execution_count": 12,
   "id": "60013d04-dc36-4dbc-b611-c616b2814603",
   "metadata": {},
   "outputs": [
    {
     "name": "stdout",
     "output_type": "stream",
     "text": [
      "{'name': 'Saikumar', 'courses': ['Data Science', 'AI'], 'graduated': True}\n"
     ]
    }
   ],
   "source": [
    "# Removing a key-value pair\n",
    "del student[\"age\"]\n",
    "print(student)"
   ]
  },
  {
   "cell_type": "markdown",
   "id": "76ebd0d9-498a-4314-91e2-560da8999010",
   "metadata": {},
   "source": [
    "##  Dictionary Methods\n"
   ]
  },
  {
   "cell_type": "code",
   "execution_count": 16,
   "id": "be27377c-d913-4642-a8af-7092d31aa74c",
   "metadata": {},
   "outputs": [],
   "source": [
    "# Creating a dictionary\n",
    "student_1 = {\n",
    " \"name\": \"Saikumar\",\n",
    " \"age\": 23,\n",
    " \"courses\": [\"Data Science\", \"AI\"],\n",
    "    \"graduation_year\":2023\n",
    " }"
   ]
  },
  {
   "cell_type": "code",
   "execution_count": 14,
   "id": "39c3ae77-ae5c-49d0-969a-14756ca37d6e",
   "metadata": {},
   "outputs": [
    {
     "data": {
      "text/plain": [
       "23"
      ]
     },
     "execution_count": 14,
     "metadata": {},
     "output_type": "execute_result"
    }
   ],
   "source": [
    "age = student_1.get(\"age\")\n",
    "age"
   ]
  },
  {
   "cell_type": "code",
   "execution_count": 17,
   "id": "1e1f0085-e5c3-4bde-97a7-df50bb216ffe",
   "metadata": {},
   "outputs": [
    {
     "data": {
      "text/plain": [
       "2023"
      ]
     },
     "execution_count": 17,
     "metadata": {},
     "output_type": "execute_result"
    }
   ],
   "source": [
    "graduation_year = student_1.get(\"graduation_year\", \"Not Available\")\n",
    "graduation_year"
   ]
  },
  {
   "cell_type": "code",
   "execution_count": 18,
   "id": "8805c570-fdc1-4569-84c5-03394d2bad45",
   "metadata": {},
   "outputs": [
    {
     "data": {
      "text/plain": [
       "dict_keys(['name', 'age', 'courses', 'graduation_year'])"
      ]
     },
     "execution_count": 18,
     "metadata": {},
     "output_type": "execute_result"
    }
   ],
   "source": [
    "keys =  student_1.keys()\n",
    "keys"
   ]
  },
  {
   "cell_type": "code",
   "execution_count": 19,
   "id": "77cb62ae-c951-4223-af96-a14f91e49cbe",
   "metadata": {},
   "outputs": [
    {
     "data": {
      "text/plain": [
       "dict_values(['Saikumar', 23, ['Data Science', 'AI'], 2023])"
      ]
     },
     "execution_count": 19,
     "metadata": {},
     "output_type": "execute_result"
    }
   ],
   "source": [
    "value = student_1.values()\n",
    "value"
   ]
  },
  {
   "cell_type": "code",
   "execution_count": 20,
   "id": "44b42e75-59e4-47e3-8f4d-f7fc8be40526",
   "metadata": {},
   "outputs": [
    {
     "data": {
      "text/plain": [
       "dict_items([('name', 'Saikumar'), ('age', 23), ('courses', ['Data Science', 'AI']), ('graduation_year', 2023)])"
      ]
     },
     "execution_count": 20,
     "metadata": {},
     "output_type": "execute_result"
    }
   ],
   "source": [
    "items = student_1.items()\n",
    "items"
   ]
  },
  {
   "cell_type": "code",
   "execution_count": 21,
   "id": "2b994dcc-439b-4bc4-aeb7-9fcf87420df6",
   "metadata": {},
   "outputs": [
    {
     "data": {
      "text/plain": [
       "dict_items"
      ]
     },
     "execution_count": 21,
     "metadata": {},
     "output_type": "execute_result"
    }
   ],
   "source": [
    "type(items)"
   ]
  },
  {
   "cell_type": "code",
   "execution_count": 22,
   "id": "af0c50f7-22f4-475b-9dda-c880268c2157",
   "metadata": {},
   "outputs": [],
   "source": [
    "additional_info = {\"graduated\": False, \"GPA\": 3.5}\n",
    "student_1.update(additional_info)"
   ]
  },
  {
   "cell_type": "code",
   "execution_count": 23,
   "id": "56c84beb-c05c-4836-915f-081baffbd9e4",
   "metadata": {},
   "outputs": [
    {
     "data": {
      "text/plain": [
       "{'name': 'Saikumar',\n",
       " 'age': 23,\n",
       " 'courses': ['Data Science', 'AI'],\n",
       " 'graduation_year': 2023,\n",
       " 'graduated': False,\n",
       " 'GPA': 3.5}"
      ]
     },
     "execution_count": 23,
     "metadata": {},
     "output_type": "execute_result"
    }
   ],
   "source": [
    "student_1"
   ]
  },
  {
   "cell_type": "code",
   "execution_count": 24,
   "id": "3d4f0d7a-147e-4473-84ff-9f32cd5c9b26",
   "metadata": {},
   "outputs": [
    {
     "data": {
      "text/plain": [
       "2023"
      ]
     },
     "execution_count": 24,
     "metadata": {},
     "output_type": "execute_result"
    }
   ],
   "source": [
    "graduation_year = student_1.pop(\"graduation_year\")\n",
    "graduation_year"
   ]
  },
  {
   "cell_type": "code",
   "execution_count": 25,
   "id": "971d3b3c-3a00-432a-b621-0953dc5530c3",
   "metadata": {},
   "outputs": [
    {
     "data": {
      "text/plain": [
       "{'name': 'Saikumar',\n",
       " 'age': 23,\n",
       " 'courses': ['Data Science', 'AI'],\n",
       " 'graduated': False,\n",
       " 'GPA': 3.5}"
      ]
     },
     "execution_count": 25,
     "metadata": {},
     "output_type": "execute_result"
    }
   ],
   "source": [
    "student_1"
   ]
  },
  {
   "cell_type": "code",
   "execution_count": 26,
   "id": "8d396a66-409d-4465-8d22-3991144ac5f6",
   "metadata": {},
   "outputs": [
    {
     "data": {
      "text/plain": [
       "{'name': 'Saikumar', 'courses': ['Data Science', 'AI'], 'graduated': True}"
      ]
     },
     "execution_count": 26,
     "metadata": {},
     "output_type": "execute_result"
    }
   ],
   "source": [
    "student"
   ]
  },
  {
   "cell_type": "code",
   "execution_count": 27,
   "id": "e75d7b1b-576f-41a4-84c3-d237f0c50ed8",
   "metadata": {},
   "outputs": [],
   "source": [
    "student.clear()\n"
   ]
  },
  {
   "cell_type": "code",
   "execution_count": 28,
   "id": "d8ee7bbe-2eba-4909-9697-4ffbf69e6e27",
   "metadata": {},
   "outputs": [
    {
     "data": {
      "text/plain": [
       "{}"
      ]
     },
     "execution_count": 28,
     "metadata": {},
     "output_type": "execute_result"
    }
   ],
   "source": [
    "student"
   ]
  },
  {
   "cell_type": "markdown",
   "id": "353ecbe4-77ff-493a-9d2c-c2da2620c667",
   "metadata": {},
   "source": [
    "## Example of Dict"
   ]
  },
  {
   "cell_type": "code",
   "execution_count": 29,
   "id": "ea1a8a3a-06cb-474d-93aa-5f6829351c59",
   "metadata": {},
   "outputs": [
    {
     "name": "stdout",
     "output_type": "stream",
     "text": [
      "10\n",
      "25\n",
      "Item not found\n",
      "{'apples': 10, 'bananas': 25, 'oranges': 15}\n"
     ]
    }
   ],
   "source": [
    "# Initialize an empty inventory\n",
    "inventory = {}\n",
    "# Function to add an item\n",
    "def add_item(item, quantity):\n",
    "    if item in inventory:\n",
    "        inventory[item] += quantity\n",
    "    else:\n",
    "        inventory[item] = quantity\n",
    "# Function to update item quantity\n",
    "def update_item(item, quantity):\n",
    "    if item in inventory:\n",
    "        inventory[item] = quantity\n",
    "    else:\n",
    "        print(f\"{item} not found in inventory\")\n",
    "# Function to check stock\n",
    "def check_stock(item):\n",
    "    return inventory.get(item, \"Item not found\")\n",
    " \n",
    "# Adding items\n",
    "add_item(\"apples\", 10)\n",
    "add_item(\"bananas\", 20)\n",
    "add_item(\"oranges\", 15)\n",
    "\n",
    "# Updating item quantity\n",
    "update_item(\"bananas\", 25)\n",
    "\n",
    "# Checking stock\n",
    "print(check_stock(\"apples\")) # Output: 10\n",
    "print(check_stock(\"bananas\")) # Output: 25\n",
    "print(check_stock(\"grapes\")) # Output: Item not found\n",
    " \n",
    "# Displaying inventory\n",
    "print(inventory)"
   ]
  },
  {
   "cell_type": "code",
   "execution_count": null,
   "id": "d702e306-7780-4944-a764-5307fba2eecc",
   "metadata": {},
   "outputs": [],
   "source": []
  }
 ],
 "metadata": {
  "kernelspec": {
   "display_name": "Python 3 (ipykernel)",
   "language": "python",
   "name": "python3"
  },
  "language_info": {
   "codemirror_mode": {
    "name": "ipython",
    "version": 3
   },
   "file_extension": ".py",
   "mimetype": "text/x-python",
   "name": "python",
   "nbconvert_exporter": "python",
   "pygments_lexer": "ipython3",
   "version": "3.11.7"
  }
 },
 "nbformat": 4,
 "nbformat_minor": 5
}
