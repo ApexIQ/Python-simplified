{
 "cells": [
  {
   "cell_type": "markdown",
   "id": "53b76c84-063c-4dda-8cb7-210fa150ea0b",
   "metadata": {},
   "source": [
    "# Tuples"
   ]
  },
  {
   "cell_type": "code",
   "execution_count": 1,
   "id": "e38c8007-71c2-499e-a49b-609b0082ab8c",
   "metadata": {},
   "outputs": [],
   "source": [
    " # Creating a tuple of integers\n",
    " numbers = (1, 2, 3, 4, 5)\n",
    "\n",
    " # Creating a tuple of strings\n",
    " fruits = (\"apple\", \"banana\", \"cherry\")\n",
    "\n",
    " # Creating a tuple with mixed data types\n",
    " mixed_tuple = (1, \"apple\", 3.14, True)"
   ]
  },
  {
   "cell_type": "code",
   "execution_count": 2,
   "id": "35d84476-145a-4e6f-9e2e-cd73bf721bb1",
   "metadata": {},
   "outputs": [
    {
     "data": {
      "text/plain": [
       "(1, 2, 3, 4, 5)"
      ]
     },
     "execution_count": 2,
     "metadata": {},
     "output_type": "execute_result"
    }
   ],
   "source": [
    "numbers  #type-1 only int tuple"
   ]
  },
  {
   "cell_type": "code",
   "execution_count": 3,
   "id": "7cfc2bdf-30f2-4679-9be5-cff3b74a2007",
   "metadata": {},
   "outputs": [
    {
     "data": {
      "text/plain": [
       "('apple', 'banana', 'cherry')"
      ]
     },
     "execution_count": 3,
     "metadata": {},
     "output_type": "execute_result"
    }
   ],
   "source": [
    "fruits #TYPE-2 its string tuple"
   ]
  },
  {
   "cell_type": "code",
   "execution_count": 5,
   "id": "ffc9fc0a-402f-48cb-bdc7-f7decbd38045",
   "metadata": {},
   "outputs": [
    {
     "data": {
      "text/plain": [
       "(1, 'apple', 3.14, True)"
      ]
     },
     "execution_count": 5,
     "metadata": {},
     "output_type": "execute_result"
    }
   ],
   "source": [
    "mixed_tuple  #Type-3 mixed both int & string tuple"
   ]
  },
  {
   "cell_type": "code",
   "execution_count": 7,
   "id": "3b6cd214-20c2-4583-b51e-877a88e004c9",
   "metadata": {},
   "outputs": [
    {
     "data": {
      "text/plain": [
       "'cherry'"
      ]
     },
     "execution_count": 7,
     "metadata": {},
     "output_type": "execute_result"
    }
   ],
   "source": [
    "fruits[2]  #accessing elements using indexing"
   ]
  },
  {
   "cell_type": "code",
   "execution_count": 8,
   "id": "0f6e3c87-0bd1-4183-be9b-4f941f65e02d",
   "metadata": {},
   "outputs": [
    {
     "data": {
      "text/plain": [
       "'banana'"
      ]
     },
     "execution_count": 8,
     "metadata": {},
     "output_type": "execute_result"
    }
   ],
   "source": [
    "fruits[-2]"
   ]
  },
  {
   "cell_type": "markdown",
   "id": "5c066333-f0b0-4b67-a8eb-3f82d4126ff8",
   "metadata": {},
   "source": [
    "## Modifying Tuples"
   ]
  },
  {
   "cell_type": "code",
   "execution_count": 9,
   "id": "e2b6223f-6069-45e0-9345-c03024ca30b5",
   "metadata": {},
   "outputs": [
    {
     "name": "stdout",
     "output_type": "stream",
     "text": [
      "(1, 2, 3, 4)\n"
     ]
    }
   ],
   "source": [
    "tuple1 = (1, 2)\n",
    "tuple2 = (3, 4)\n",
    "combined_tuple = tuple1 + tuple2\n",
    "print(combined_tuple)"
   ]
  },
  {
   "cell_type": "code",
   "execution_count": 10,
   "id": "a43e4b20-9a6d-42c7-b5a3-10b77222e651",
   "metadata": {},
   "outputs": [
    {
     "data": {
      "text/plain": [
       "(2, 3)"
      ]
     },
     "execution_count": 10,
     "metadata": {},
     "output_type": "execute_result"
    }
   ],
   "source": [
    "combined_tuple[1:3] #slicing using indexing method"
   ]
  },
  {
   "cell_type": "code",
   "execution_count": 12,
   "id": "ad5dc27f-170e-49e5-8fa4-0ca3c10bb811",
   "metadata": {},
   "outputs": [],
   "source": [
    "# tuple repitation\n",
    "tup = combined_tuple * 3"
   ]
  },
  {
   "cell_type": "markdown",
   "id": "abc3ff06-3000-4721-95de-45a956709d1d",
   "metadata": {},
   "source": [
    "## Tuple Methods"
   ]
  },
  {
   "cell_type": "code",
   "execution_count": 15,
   "id": "529dca4c-fb11-4db6-9319-fb711e43bc4d",
   "metadata": {},
   "outputs": [
    {
     "data": {
      "text/plain": [
       "(1, 2, 3, 4, 1, 2, 3, 4, 1, 2, 3, 4)"
      ]
     },
     "execution_count": 15,
     "metadata": {},
     "output_type": "execute_result"
    }
   ],
   "source": [
    "tup"
   ]
  },
  {
   "cell_type": "code",
   "execution_count": 14,
   "id": "aed3db11-80e1-40b6-a86d-6842d55af6fe",
   "metadata": {},
   "outputs": [
    {
     "data": {
      "text/plain": [
       "3"
      ]
     },
     "execution_count": 14,
     "metadata": {},
     "output_type": "execute_result"
    }
   ],
   "source": [
    "tup.count(2)"
   ]
  },
  {
   "cell_type": "code",
   "execution_count": 16,
   "id": "8517e75c-eaaa-4223-a0f9-7c671215092c",
   "metadata": {},
   "outputs": [
    {
     "data": {
      "text/plain": [
       "2"
      ]
     },
     "execution_count": 16,
     "metadata": {},
     "output_type": "execute_result"
    }
   ],
   "source": [
    "tup.index(3)"
   ]
  },
  {
   "cell_type": "markdown",
   "id": "46369d8d-a406-489d-bf16-cbffc8e6b5c3",
   "metadata": {},
   "source": [
    "## Examples"
   ]
  },
  {
   "cell_type": "code",
   "execution_count": 17,
   "id": "cac912e5-b7c6-42be-a13c-594eea66acc2",
   "metadata": {},
   "outputs": [
    {
     "name": "stdout",
     "output_type": "stream",
     "text": [
      "Employee ID: 1, Name: Alice, Department:HR\n",
      "Employee ID: 2, Name: Bob, Department:Engineering\n",
      "Employee ID: 3, Name: Charlie, Department:Marketing\n"
     ]
    }
   ],
   "source": [
    " # List of employee records\n",
    "employees = [\n",
    "(1, \"Alice\", \"HR\"),\n",
    "(2, \"Bob\", \"Engineering\"),\n",
    "(3, \"Charlie\", \"Marketing\")\n",
    "]\n",
    "# Print each employee record\n",
    "for employee in employees:\n",
    "    print(f\"Employee ID: {employee[0]}, Name: {employee[1]}, Department:{employee[2]}\")"
   ]
  },
  {
   "cell_type": "code",
   "execution_count": 18,
   "id": "679b9852-9b70-47e3-a475-991fb2737725",
   "metadata": {},
   "outputs": [
    {
     "data": {
      "text/plain": [
       "list"
      ]
     },
     "execution_count": 18,
     "metadata": {},
     "output_type": "execute_result"
    }
   ],
   "source": [
    "type(employees)"
   ]
  },
  {
   "cell_type": "code",
   "execution_count": null,
   "id": "3b24d448-3f4b-48a1-a841-c2ca1cdc155c",
   "metadata": {},
   "outputs": [],
   "source": []
  }
 ],
 "metadata": {
  "kernelspec": {
   "display_name": "Python 3 (ipykernel)",
   "language": "python",
   "name": "python3"
  },
  "language_info": {
   "codemirror_mode": {
    "name": "ipython",
    "version": 3
   },
   "file_extension": ".py",
   "mimetype": "text/x-python",
   "name": "python",
   "nbconvert_exporter": "python",
   "pygments_lexer": "ipython3",
   "version": "3.11.7"
  }
 },
 "nbformat": 4,
 "nbformat_minor": 5
}
