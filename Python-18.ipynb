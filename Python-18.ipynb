{
 "cells": [
  {
   "cell_type": "markdown",
   "id": "78cff69c-e38a-4cad-9398-171539f34e53",
   "metadata": {},
   "source": [
    "# Functions"
   ]
  },
  {
   "cell_type": "markdown",
   "id": "c9c4c233-efdd-4926-80ae-87604c502dcb",
   "metadata": {},
   "source": [
    " A function is a block of organized, reusable code that performs a specific task. Functions\n",
    " help to break our program into smaller and modular chunks, making it easier to\n",
    " understand, maintain, and debug. They allow you to reuse code by calling the function\n",
    " whenever needed."
   ]
  },
  {
   "cell_type": "raw",
   "id": "ff87f48f-f50b-4b2e-b1a9-63a37142e116",
   "metadata": {},
   "source": [
    "def function_name(parameters):\n",
    " \"\"\"\n",
    " Docstring (optional): Describes the function.\n",
    " \"\"\"\n",
    " # Function body\n",
    " statement(s)\n",
    " return value (optional)"
   ]
  },
  {
   "cell_type": "code",
   "execution_count": 1,
   "id": "6a624772-3469-4e08-a2ed-f5ea16ed178f",
   "metadata": {},
   "outputs": [],
   "source": [
    "# Example-1\n",
    "\n",
    "def greetings(name):\n",
    "    print(f\"Hello {name}, welcome to my channel. please do Subscriber!! the channel.\")"
   ]
  },
  {
   "cell_type": "code",
   "execution_count": 2,
   "id": "680777c4-e1c9-451a-b722-54936f8cfc50",
   "metadata": {},
   "outputs": [
    {
     "name": "stdout",
     "output_type": "stream",
     "text": [
      "Hello Rahul, welcome to my channel. please do Subscriber!! the channel.\n"
     ]
    }
   ],
   "source": [
    "#calling function\n",
    "\n",
    "greetings(\"Rahul\")"
   ]
  },
  {
   "cell_type": "code",
   "execution_count": 3,
   "id": "0224c4b1-b66d-4b40-8e7a-61003dad2736",
   "metadata": {},
   "outputs": [
    {
     "name": "stdout",
     "output_type": "stream",
     "text": [
      "Hello ashwin, welcome to my channel. please do Subscriber!! the channel.\n"
     ]
    }
   ],
   "source": [
    "greetings(\"ashwin\")"
   ]
  },
  {
   "cell_type": "code",
   "execution_count": 4,
   "id": "7ba5d90d-fb60-43ee-97ef-1e22a0c33d1c",
   "metadata": {},
   "outputs": [
    {
     "name": "stdout",
     "output_type": "stream",
     "text": [
      "Hello Ram, welcome to my channel. please do Subscriber!! the channel.\n"
     ]
    }
   ],
   "source": [
    "greetings(\"Ram\")"
   ]
  },
  {
   "cell_type": "markdown",
   "id": "3d86c79d-c92e-4288-b6e0-3f09a0aa91a1",
   "metadata": {},
   "source": [
    "## Example 1:  Calculating Shipping Costs\n",
    "\n",
    "**Problem Statement:**\n",
    "Imagine you're building an e-commerce website. You need to calculate shipping costs based on the weight of the order and the destination.  You offer different shipping rates per kilogram depending on whether the package is being shipped domestically or internationally."
   ]
  },
  {
   "cell_type": "code",
   "execution_count": 5,
   "id": "c0a02b57-a81f-4e88-9761-f22de0ce36b9",
   "metadata": {},
   "outputs": [],
   "source": [
    "def calculate_shipping_rate(weight_kg, international=False):\n",
    "    \"\"\"Calculates shipping cost based on weight and destination.\n",
    "\n",
    "  Args:\n",
    "    weight_kg: The weight of the package in kilograms.\n",
    "    international: True if international shipping, False otherwise.\n",
    "\n",
    "  Returns:\n",
    "    The shipping cost in dollars.\n",
    "  \"\"\"\n",
    "    if international:\n",
    "        rate_per_kg = 20\n",
    "    else:\n",
    "        rate_per_kg = 10\n",
    "    return weight_kg * rate_per_kg\n",
    "\n"
   ]
  },
  {
   "cell_type": "code",
   "execution_count": 6,
   "id": "5dcfad56-acdc-4e5e-80bc-9a0473a39e01",
   "metadata": {},
   "outputs": [],
   "source": [
    "domestic_cost = calculate_shipping_rate(5)\n",
    "international_cost = calculate_shipping_rate(5, international=True)"
   ]
  },
  {
   "cell_type": "code",
   "execution_count": 7,
   "id": "07092ed7-bd60-4982-af09-fd5247583edb",
   "metadata": {},
   "outputs": [
    {
     "name": "stdout",
     "output_type": "stream",
     "text": [
      "Domestic coast:  $50\n"
     ]
    }
   ],
   "source": [
    "print(f\"Domestic coast:  ${domestic_cost}\")"
   ]
  },
  {
   "cell_type": "code",
   "execution_count": 8,
   "id": "d10a5466-3bd6-4cb1-bd3a-bd2b0e6a1eab",
   "metadata": {},
   "outputs": [
    {
     "name": "stdout",
     "output_type": "stream",
     "text": [
      "international coast:  $100\n"
     ]
    }
   ],
   "source": [
    "print(f\"international coast:  ${international_cost}\")"
   ]
  },
  {
   "cell_type": "code",
   "execution_count": null,
   "id": "5df862e8-f5d6-4cad-9655-f40cb2d54cda",
   "metadata": {},
   "outputs": [],
   "source": []
  }
 ],
 "metadata": {
  "kernelspec": {
   "display_name": "Python 3 (ipykernel)",
   "language": "python",
   "name": "python3"
  },
  "language_info": {
   "codemirror_mode": {
    "name": "ipython",
    "version": 3
   },
   "file_extension": ".py",
   "mimetype": "text/x-python",
   "name": "python",
   "nbconvert_exporter": "python",
   "pygments_lexer": "ipython3",
   "version": "3.11.7"
  }
 },
 "nbformat": 4,
 "nbformat_minor": 5
}
