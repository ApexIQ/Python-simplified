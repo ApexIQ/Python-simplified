{
 "cells": [
  {
   "cell_type": "markdown",
   "id": "4dee5395-7184-4719-aac9-5edf48b7820c",
   "metadata": {},
   "source": [
    "# Dictionary Comprehension"
   ]
  },
  {
   "cell_type": "code",
   "execution_count": 1,
   "id": "db2f3f88-b268-4eb8-a930-5fa9eb58baaa",
   "metadata": {},
   "outputs": [
    {
     "name": "stdout",
     "output_type": "stream",
     "text": [
      "{1: 1, 2: 4, 3: 9, 4: 16, 5: 25}\n"
     ]
    }
   ],
   "source": [
    "#  Let's create a dictionary that maps numbers to their squares using dictionary comprehension.\n",
    "\n",
    "# normal dict code\n",
    "\n",
    "squares_dict = {}\n",
    "for x in range(1, 6):\n",
    "  squares_dict[x] = x ** 2\n",
    "\n",
    "print(squares_dict)"
   ]
  },
  {
   "cell_type": "code",
   "execution_count": 2,
   "id": "c11453b3-6b0d-49d6-a4e8-a3c9e368109d",
   "metadata": {},
   "outputs": [
    {
     "name": "stdout",
     "output_type": "stream",
     "text": [
      "{1: 1, 2: 4, 3: 9, 4: 16, 5: 25}\n"
     ]
    }
   ],
   "source": [
    "# Dictionary comprehension to create a dictionary of squares\n",
    "squares_dict = {x: x ** 2 for x in range(1, 6)}\n",
    "print(squares_dict)"
   ]
  },
  {
   "cell_type": "code",
   "execution_count": 3,
   "id": "62276e2c-b316-4098-b82b-65edb25cf71f",
   "metadata": {},
   "outputs": [
    {
     "name": "stdout",
     "output_type": "stream",
     "text": [
      "{2: 4, 4: 16, 6: 36, 8: 64, 10: 100}\n"
     ]
    }
   ],
   "source": [
    "# example-2\n",
    "#  Let's create a dictionary where keys are even numbers and values are their squares from 1 to 10 using dictionary comprehension with a conditional filter.\n",
    "\n",
    "# even_squares filter out...\n",
    "even_squares_dict = {}\n",
    "for x in range(1, 11):\n",
    "  if x % 2 == 0:  # Check if x is even\n",
    "    even_squares_dict[x] = x ** 2\n",
    "\n",
    "print(even_squares_dict)"
   ]
  },
  {
   "cell_type": "code",
   "execution_count": 5,
   "id": "2abaeb74-e1f9-49c6-9438-e61fdbf19167",
   "metadata": {},
   "outputs": [
    {
     "name": "stdout",
     "output_type": "stream",
     "text": [
      "{1: 1, 3: 9, 5: 25, 7: 49, 9: 81}\n"
     ]
    }
   ],
   "source": [
    "even_squares_dict = {x: x ** 2 for x in range(1, 11) if x % 2 != 0}\n",
    "print(even_squares_dict)"
   ]
  },
  {
   "cell_type": "code",
   "execution_count": 6,
   "id": "24ef6482-723d-4302-bb33-0a5731ac715e",
   "metadata": {},
   "outputs": [
    {
     "name": "stdout",
     "output_type": "stream",
     "text": [
      "{'Alice': {'age': 30, 'occupation': 'Engineer'}, 'Bob': {'age': 25, 'occupation': 'Teacher'}, 'Charlie': {'age': 35, 'occupation': 'Doctor'}}\n"
     ]
    }
   ],
   "source": [
    "# Nested Dictionary Comprehension\n",
    "\n",
    "#  Let's create a nested dictionary for storing details about different persons, where each person has a name and adictionary of attributes such as age and occupation.\n",
    "\n",
    "persons = [\n",
    " {'name': 'Alice', 'age': 30, 'occupation': 'Engineer'},\n",
    " {'name': 'Bob', 'age': 25, 'occupation': 'Teacher'},\n",
    " {'name': 'Charlie', 'age': 35, 'occupation': 'Doctor'}\n",
    " ]\n",
    "\n",
    "persons_dict = {}\n",
    "for person in persons:\n",
    "  name = person['name']\n",
    "  age = person['age']\n",
    "  occupation = person['occupation']\n",
    "  persons_dict[name] = {'age': age, 'occupation': occupation}\n",
    "\n",
    "print(persons_dict)"
   ]
  },
  {
   "cell_type": "code",
   "execution_count": 8,
   "id": "258b6274-b5b9-4ae6-8ae6-dbb93707c989",
   "metadata": {},
   "outputs": [
    {
     "name": "stdout",
     "output_type": "stream",
     "text": [
      "{'Alice': {'age': 30, 'occupation': 'Engineer'}, 'Bob': {'age': 25, 'occupation': 'Teacher'}, 'Charlie': {'age': 35, 'occupation': 'Doctor'}}\n"
     ]
    }
   ],
   "source": [
    "persons = [\n",
    " {'name': 'Alice', 'age': 30, 'occupation': 'Engineer'},\n",
    " {'name': 'Bob', 'age': 25, 'occupation': 'Teacher'},\n",
    " {'name': 'Charlie', 'age': 35, 'occupation': 'Doctor'}\n",
    " ]\n",
    " # Nested dictionary comprehension to create a dictionary of persons\n",
    "persons_dict = {person['name']: {'age': person['age'], 'occupation': person['occupation']} for person in persons}\n",
    "print(persons_dict)"
   ]
  },
  {
   "cell_type": "markdown",
   "id": "15c40788-b987-45fa-a5dc-56bcfb8f0fe5",
   "metadata": {},
   "source": [
    "# Problem Statement:\n",
    "You are tasked with creating a program for a bank that manages customers' savings and\n",
    " checking accounts. Each customer can have multiple accounts, and each account has\n",
    " attributes like balance and account type (savings or checking). The program should use\n",
    " nested dictionary comprehensions to store and display the details of each customer's\n",
    " accounts."
   ]
  },
  {
   "cell_type": "code",
   "execution_count": 9,
   "id": "da04cb7f-e000-4d6e-846d-d7a6e33f498e",
   "metadata": {},
   "outputs": [
    {
     "name": "stdout",
     "output_type": "stream",
     "text": [
      "Customer: Charlie\n",
      " Savings Account: $3200.0\n",
      " Checking Account: $1100.5\n",
      "Customer: Alice\n",
      " Savings Account: $1500.5\n",
      " Checking Account: $1200.0\n",
      "Customer: Bob\n",
      " Savings Account: $2500.75\n",
      " Checking Account: $1800.0\n"
     ]
    }
   ],
   "source": [
    "accounts = [\n",
    " ('Alice', 'savings', 1500.50),\n",
    " ('Alice', 'checking', 1200.00),\n",
    " ('Bob', 'savings', 2500.75),\n",
    " ('Bob', 'checking', 1800.00),\n",
    " ('Charlie', 'savings', 3200.00),\n",
    " ('Charlie', 'checking', 1100.50),\n",
    " ]\n",
    "\n",
    "bank_customers = {}\n",
    "\n",
    "# Get a unique set of customer names\n",
    "customers = set()\n",
    "for customer, _, _ in accounts:\n",
    "  customers.add(customer)\n",
    "\n",
    "# Create the nested dictionary\n",
    "for customer in customers:\n",
    "  bank_customers[customer] = {}\n",
    "  for _, account_type, balance in accounts:\n",
    "    if customer == _:\n",
    "      bank_customers[customer][account_type] = balance\n",
    "\n",
    "# Print the bank customers' account details\n",
    "for customer, accounts in bank_customers.items():\n",
    "  print(f\"Customer: {customer}\")\n",
    "  for account_type, balance in accounts.items():\n",
    "    print(f\" {account_type.capitalize()} Account: ${balance}\")"
   ]
  },
  {
   "cell_type": "code",
   "execution_count": 17,
   "id": "4369ad3c-a43a-4e36-b4b4-23970356d2bb",
   "metadata": {},
   "outputs": [
    {
     "name": "stdout",
     "output_type": "stream",
     "text": [
      "Customer: Charlie\n",
      " Savings Account: $3200.0\n",
      " Checking Account: $1100.5\n",
      "Customer: Alice\n",
      " Savings Account: $1500.5\n",
      " Checking Account: $1200.0\n",
      "Customer: Bob\n",
      " Savings Account: $2500.75\n",
      " Checking Account: $1800.0\n"
     ]
    }
   ],
   "source": [
    "accounts = [\n",
    " ('Alice', 'savings', 1500.50),\n",
    " ('Alice', 'checking', 1200.00),\n",
    " ('Bob', 'savings', 2500.75),\n",
    " ('Bob', 'checking', 1800.00),\n",
    " ('Charlie', 'savings', 3200.00),\n",
    " ('Charlie', 'checking', 1100.50),\n",
    " ]\n",
    "# Nested dictionary comprehension to store account details\n",
    "bank_customers = {customer: {account_type: balance for _, account_type, balance in accounts if customer == _} for customer in {customer for customer, _, _ in accounts}}\n",
    " # Print the bank customers' account details\n",
    "for customer, accounts in bank_customers.items():\n",
    "    print(f\"Customer: {customer}\")\n",
    "    for account_type, balance in accounts.items():\n",
    "        print(f\" {account_type.capitalize()} Account: ${balance}\")"
   ]
  },
  {
   "cell_type": "code",
   "execution_count": null,
   "id": "7d80e663-dc35-4284-b7d6-88eeefe56050",
   "metadata": {},
   "outputs": [],
   "source": []
  }
 ],
 "metadata": {
  "kernelspec": {
   "display_name": "Python 3 (ipykernel)",
   "language": "python",
   "name": "python3"
  },
  "language_info": {
   "codemirror_mode": {
    "name": "ipython",
    "version": 3
   },
   "file_extension": ".py",
   "mimetype": "text/x-python",
   "name": "python",
   "nbconvert_exporter": "python",
   "pygments_lexer": "ipython3",
   "version": "3.11.7"
  }
 },
 "nbformat": 4,
 "nbformat_minor": 5
}
