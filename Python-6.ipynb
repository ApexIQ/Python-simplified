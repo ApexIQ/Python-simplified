{
 "cells": [
  {
   "cell_type": "markdown",
   "id": "52c37a5e-a20f-4cbe-8e47-3547db5af423",
   "metadata": {},
   "source": [
    "# integer datatype"
   ]
  },
  {
   "cell_type": "code",
   "execution_count": 25,
   "id": "7ae5d13b-cc2a-4306-a51c-52caa2cb98ab",
   "metadata": {},
   "outputs": [],
   "source": [
    "x = 10\n",
    "y = 3\n",
    "addition = x + y\n",
    "subtraction = x- y\n",
    "multiplication = x * y\n",
    "division = x / y\n",
    "floor_division = x // y\n",
    "modulo = x % y\n",
    "exponentiation = x ** y"
   ]
  },
  {
   "cell_type": "code",
   "execution_count": 26,
   "id": "8cb94931-7705-49bc-af56-ace4cb792072",
   "metadata": {},
   "outputs": [
    {
     "data": {
      "text/plain": [
       "13"
      ]
     },
     "execution_count": 26,
     "metadata": {},
     "output_type": "execute_result"
    }
   ],
   "source": [
    "addition"
   ]
  },
  {
   "cell_type": "code",
   "execution_count": 27,
   "id": "f5bb7c4a-e590-4e61-b719-35224f368472",
   "metadata": {},
   "outputs": [
    {
     "data": {
      "text/plain": [
       "7"
      ]
     },
     "execution_count": 27,
     "metadata": {},
     "output_type": "execute_result"
    }
   ],
   "source": [
    "subtraction"
   ]
  },
  {
   "cell_type": "code",
   "execution_count": 28,
   "id": "d8b6c697-1fcd-48ef-9333-3c2bd5326308",
   "metadata": {},
   "outputs": [
    {
     "data": {
      "text/plain": [
       "3.3333333333333335"
      ]
     },
     "execution_count": 28,
     "metadata": {},
     "output_type": "execute_result"
    }
   ],
   "source": [
    "division"
   ]
  },
  {
   "cell_type": "code",
   "execution_count": 29,
   "id": "61d2a857-7f39-416e-9e90-b4c961964a42",
   "metadata": {},
   "outputs": [
    {
     "data": {
      "text/plain": [
       "3"
      ]
     },
     "execution_count": 29,
     "metadata": {},
     "output_type": "execute_result"
    }
   ],
   "source": [
    "floor_division"
   ]
  },
  {
   "cell_type": "code",
   "execution_count": 30,
   "id": "7b86d866-164f-4e45-aabe-39ebad1eb3fc",
   "metadata": {},
   "outputs": [
    {
     "data": {
      "text/plain": [
       "1"
      ]
     },
     "execution_count": 30,
     "metadata": {},
     "output_type": "execute_result"
    }
   ],
   "source": [
    "modulo"
   ]
  },
  {
   "cell_type": "code",
   "execution_count": 31,
   "id": "47849beb-f145-457d-858b-c64b4d9236e5",
   "metadata": {},
   "outputs": [
    {
     "data": {
      "text/plain": [
       "1"
      ]
     },
     "execution_count": 31,
     "metadata": {},
     "output_type": "execute_result"
    }
   ],
   "source": [
    "10%3"
   ]
  },
  {
   "cell_type": "code",
   "execution_count": 32,
   "id": "5dafb76d-9282-45d2-941b-836052d508f0",
   "metadata": {},
   "outputs": [
    {
     "data": {
      "text/plain": [
       "1000"
      ]
     },
     "execution_count": 32,
     "metadata": {},
     "output_type": "execute_result"
    }
   ],
   "source": [
    "exponentiation"
   ]
  },
  {
   "cell_type": "code",
   "execution_count": 33,
   "id": "9307bf66-e184-48bc-a4ce-583dc5296b13",
   "metadata": {},
   "outputs": [
    {
     "data": {
      "text/plain": [
       "1000"
      ]
     },
     "execution_count": 33,
     "metadata": {},
     "output_type": "execute_result"
    }
   ],
   "source": [
    "10*10*10"
   ]
  },
  {
   "cell_type": "code",
   "execution_count": 45,
   "id": "305ba57e-15ca-4291-bd33-891ef425f935",
   "metadata": {},
   "outputs": [],
   "source": [
    "x = 10\n",
    "y = 10\n",
    "is_equal = x == y\n",
    "is_not_equal = x != y\n",
    "is_greater_than = x > y\n",
    "is_less_than = x < y\n",
    "is_greater_or_equal = x >= y\n",
    "is_less_or_equal = x <= y"
   ]
  },
  {
   "cell_type": "code",
   "execution_count": 39,
   "id": "ff46f60f-f03b-40b3-8715-5aa50cdb7093",
   "metadata": {},
   "outputs": [
    {
     "data": {
      "text/plain": [
       "False"
      ]
     },
     "execution_count": 39,
     "metadata": {},
     "output_type": "execute_result"
    }
   ],
   "source": [
    "is_equal"
   ]
  },
  {
   "cell_type": "code",
   "execution_count": 40,
   "id": "09a69ca8-a748-4a93-8820-41a8471ec3a2",
   "metadata": {},
   "outputs": [
    {
     "data": {
      "text/plain": [
       "True"
      ]
     },
     "execution_count": 40,
     "metadata": {},
     "output_type": "execute_result"
    }
   ],
   "source": [
    "is_not_equal"
   ]
  },
  {
   "cell_type": "code",
   "execution_count": 41,
   "id": "00c1faae-1306-4fd8-9dc9-149d2fbf6b21",
   "metadata": {},
   "outputs": [
    {
     "data": {
      "text/plain": [
       "True"
      ]
     },
     "execution_count": 41,
     "metadata": {},
     "output_type": "execute_result"
    }
   ],
   "source": [
    "is_greater_than"
   ]
  },
  {
   "cell_type": "code",
   "execution_count": 42,
   "id": "768784ea-98f9-4491-9f43-7460c37c913d",
   "metadata": {},
   "outputs": [
    {
     "data": {
      "text/plain": [
       "False"
      ]
     },
     "execution_count": 42,
     "metadata": {},
     "output_type": "execute_result"
    }
   ],
   "source": [
    "is_less_than"
   ]
  },
  {
   "cell_type": "code",
   "execution_count": 46,
   "id": "0fbc8051-b695-4de1-8193-af59263d640b",
   "metadata": {},
   "outputs": [
    {
     "data": {
      "text/plain": [
       "True"
      ]
     },
     "execution_count": 46,
     "metadata": {},
     "output_type": "execute_result"
    }
   ],
   "source": [
    "is_greater_or_equal"
   ]
  },
  {
   "cell_type": "code",
   "execution_count": 47,
   "id": "b437e55d-932a-4c76-aa63-ee9bf602a512",
   "metadata": {},
   "outputs": [
    {
     "data": {
      "text/plain": [
       "True"
      ]
     },
     "execution_count": 47,
     "metadata": {},
     "output_type": "execute_result"
    }
   ],
   "source": [
    "is_less_or_equal"
   ]
  },
  {
   "cell_type": "code",
   "execution_count": 48,
   "id": "1d2e76f8-c148-466d-93bb-db1c980182da",
   "metadata": {},
   "outputs": [],
   "source": [
    " x =-10\n",
    " absolute_value = abs(x)\n",
    " bit_length = x.bit_length()"
   ]
  },
  {
   "cell_type": "code",
   "execution_count": 49,
   "id": "5585c623-8c3b-4d78-9f5e-e9a0b07fe2e4",
   "metadata": {},
   "outputs": [
    {
     "data": {
      "text/plain": [
       "10"
      ]
     },
     "execution_count": 49,
     "metadata": {},
     "output_type": "execute_result"
    }
   ],
   "source": [
    "absolute_value"
   ]
  },
  {
   "cell_type": "code",
   "execution_count": 50,
   "id": "54757c9b-3e2d-46b0-84a8-b831a291e7c5",
   "metadata": {},
   "outputs": [
    {
     "data": {
      "text/plain": [
       "4"
      ]
     },
     "execution_count": 50,
     "metadata": {},
     "output_type": "execute_result"
    }
   ],
   "source": [
    "bit_length"
   ]
  },
  {
   "cell_type": "markdown",
   "id": "0c7faa63-58d8-4cfd-8310-f66a8380412b",
   "metadata": {},
   "source": [
    "# Float datatype"
   ]
  },
  {
   "cell_type": "code",
   "execution_count": 51,
   "id": "c9c9fa11-3c58-413a-a316-4f00261db5c9",
   "metadata": {},
   "outputs": [],
   "source": [
    " x = 3.5\n",
    " y = 2.0\n",
    " addition = x + y\n",
    " subtraction = x- y\n",
    " multiplication = x * y\n",
    " division = x / y\n",
    " modulo = x % y\n",
    " exponentiation = x ** y"
   ]
  },
  {
   "cell_type": "code",
   "execution_count": 52,
   "id": "ea97b836-7011-4928-9b2b-a0beef8b709e",
   "metadata": {},
   "outputs": [
    {
     "data": {
      "text/plain": [
       "5.5"
      ]
     },
     "execution_count": 52,
     "metadata": {},
     "output_type": "execute_result"
    }
   ],
   "source": [
    "addition"
   ]
  },
  {
   "cell_type": "code",
   "execution_count": 53,
   "id": "b023b61a-b5d7-419f-9083-f6d374760525",
   "metadata": {},
   "outputs": [
    {
     "data": {
      "text/plain": [
       "1.5"
      ]
     },
     "execution_count": 53,
     "metadata": {},
     "output_type": "execute_result"
    }
   ],
   "source": [
    "subtraction"
   ]
  },
  {
   "cell_type": "code",
   "execution_count": 54,
   "id": "65a6a0c6-ad7a-49bf-b6c2-971f8798d457",
   "metadata": {},
   "outputs": [
    {
     "data": {
      "text/plain": [
       "7.0"
      ]
     },
     "execution_count": 54,
     "metadata": {},
     "output_type": "execute_result"
    }
   ],
   "source": [
    "multiplication"
   ]
  },
  {
   "cell_type": "code",
   "execution_count": 56,
   "id": "c2dff9fd-c1b8-46a8-91ec-b6f640419307",
   "metadata": {},
   "outputs": [
    {
     "data": {
      "text/plain": [
       "7.0"
      ]
     },
     "execution_count": 56,
     "metadata": {},
     "output_type": "execute_result"
    }
   ],
   "source": [
    "3.5*2.0"
   ]
  },
  {
   "cell_type": "code",
   "execution_count": 55,
   "id": "9685bb37-e531-4c58-a94e-9ec6306a9692",
   "metadata": {},
   "outputs": [
    {
     "data": {
      "text/plain": [
       "1.75"
      ]
     },
     "execution_count": 55,
     "metadata": {},
     "output_type": "execute_result"
    }
   ],
   "source": [
    "division"
   ]
  },
  {
   "cell_type": "code",
   "execution_count": 57,
   "id": "5a30b24b-0419-4e0c-9851-fc222f67e0a7",
   "metadata": {},
   "outputs": [
    {
     "data": {
      "text/plain": [
       "1.75"
      ]
     },
     "execution_count": 57,
     "metadata": {},
     "output_type": "execute_result"
    }
   ],
   "source": [
    "3.5/2.0"
   ]
  },
  {
   "cell_type": "code",
   "execution_count": 58,
   "id": "6427836c-b4be-4b32-bf52-2924e569892e",
   "metadata": {},
   "outputs": [
    {
     "data": {
      "text/plain": [
       "1.5"
      ]
     },
     "execution_count": 58,
     "metadata": {},
     "output_type": "execute_result"
    }
   ],
   "source": [
    "modulo"
   ]
  },
  {
   "cell_type": "code",
   "execution_count": 59,
   "id": "084dad53-5551-48b6-b034-49824da21f86",
   "metadata": {},
   "outputs": [
    {
     "data": {
      "text/plain": [
       "12.25"
      ]
     },
     "execution_count": 59,
     "metadata": {},
     "output_type": "execute_result"
    }
   ],
   "source": [
    "exponentiation"
   ]
  },
  {
   "cell_type": "code",
   "execution_count": 62,
   "id": "8b559d50-8404-4721-a76d-b398732fd695",
   "metadata": {},
   "outputs": [
    {
     "data": {
      "text/plain": [
       "12.25"
      ]
     },
     "execution_count": 62,
     "metadata": {},
     "output_type": "execute_result"
    }
   ],
   "source": [
    "3.5*3.5"
   ]
  },
  {
   "cell_type": "code",
   "execution_count": 63,
   "id": "30801ad5-34cb-43af-8489-e21001004563",
   "metadata": {},
   "outputs": [],
   "source": [
    "#comparision operator\n",
    "x = 3.5\n",
    "y = 2.0\n",
    "is_equal = x == y\n",
    "is_not_equal = x != y\n",
    "is_greater_than = x > y\n",
    "is_less_than = x < y\n",
    "is_greater_or_equal = x >= y\n",
    "is_less_or_equal = x <= y"
   ]
  },
  {
   "cell_type": "code",
   "execution_count": 64,
   "id": "da85ba99-9e03-4eaa-8d96-5a71bf855a47",
   "metadata": {},
   "outputs": [
    {
     "data": {
      "text/plain": [
       "False"
      ]
     },
     "execution_count": 64,
     "metadata": {},
     "output_type": "execute_result"
    }
   ],
   "source": [
    "is_equal"
   ]
  },
  {
   "cell_type": "code",
   "execution_count": 65,
   "id": "26983913-f488-439d-bf41-5bc4ab126779",
   "metadata": {},
   "outputs": [
    {
     "data": {
      "text/plain": [
       "True"
      ]
     },
     "execution_count": 65,
     "metadata": {},
     "output_type": "execute_result"
    }
   ],
   "source": [
    "is_not_equal"
   ]
  },
  {
   "cell_type": "code",
   "execution_count": 66,
   "id": "09cf0f46-0f94-4f32-97ab-9ebea27d3494",
   "metadata": {},
   "outputs": [
    {
     "data": {
      "text/plain": [
       "True"
      ]
     },
     "execution_count": 66,
     "metadata": {},
     "output_type": "execute_result"
    }
   ],
   "source": [
    "is_greater_or_equal"
   ]
  },
  {
   "cell_type": "code",
   "execution_count": 67,
   "id": "24e647a6-0000-40e6-983a-59cae2bbde7a",
   "metadata": {},
   "outputs": [
    {
     "data": {
      "text/plain": [
       "False"
      ]
     },
     "execution_count": 67,
     "metadata": {},
     "output_type": "execute_result"
    }
   ],
   "source": [
    "is_less_or_equal"
   ]
  },
  {
   "cell_type": "code",
   "execution_count": 71,
   "id": "c440fa15-171a-49d6-93c7-b6acbcebdc80",
   "metadata": {},
   "outputs": [],
   "source": [
    "x = 3.5\n",
    "is_integer = x.is_integer()\n",
    "hex_representation = x.hex()\n",
    "numerator, denominator = x.as_integer_ratio() "
   ]
  },
  {
   "cell_type": "code",
   "execution_count": 72,
   "id": "68108b78-1503-490f-902e-3b27a514ba8c",
   "metadata": {},
   "outputs": [
    {
     "data": {
      "text/plain": [
       "False"
      ]
     },
     "execution_count": 72,
     "metadata": {},
     "output_type": "execute_result"
    }
   ],
   "source": [
    "is_integer"
   ]
  },
  {
   "cell_type": "code",
   "execution_count": 73,
   "id": "92275ea4-2bb7-4d22-8149-5e472cccce66",
   "metadata": {},
   "outputs": [
    {
     "data": {
      "text/plain": [
       "'0x1.c000000000000p+1'"
      ]
     },
     "execution_count": 73,
     "metadata": {},
     "output_type": "execute_result"
    }
   ],
   "source": [
    "hex_representation"
   ]
  },
  {
   "cell_type": "code",
   "execution_count": 74,
   "id": "5e4379a4-7b5c-4efd-9e0b-b0007db6c151",
   "metadata": {},
   "outputs": [
    {
     "name": "stdout",
     "output_type": "stream",
     "text": [
      "7 2\n"
     ]
    }
   ],
   "source": [
    "print(numerator, denominator)"
   ]
  },
  {
   "cell_type": "code",
   "execution_count": null,
   "id": "ed340645-66ff-46b0-b31f-ba2b4147935e",
   "metadata": {},
   "outputs": [],
   "source": []
  }
 ],
 "metadata": {
  "kernelspec": {
   "display_name": "Python 3 (ipykernel)",
   "language": "python",
   "name": "python3"
  },
  "language_info": {
   "codemirror_mode": {
    "name": "ipython",
    "version": 3
   },
   "file_extension": ".py",
   "mimetype": "text/x-python",
   "name": "python",
   "nbconvert_exporter": "python",
   "pygments_lexer": "ipython3",
   "version": "3.11.7"
  }
 },
 "nbformat": 4,
 "nbformat_minor": 5
}
