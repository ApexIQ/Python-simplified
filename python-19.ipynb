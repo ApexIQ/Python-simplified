{
 "cells": [
  {
   "cell_type": "markdown",
   "id": "02679a51-c94d-4292-96a9-c89398b3a6a5",
   "metadata": {},
   "source": [
    "# Scope of Variables"
   ]
  },
  {
   "cell_type": "markdown",
   "id": "107c3872-33ad-46e7-bd8d-f4deeefc7e7c",
   "metadata": {},
   "source": [
    " ## Local Scope\n",
    " A variable defined inside a function has a local scope and is accessible only within that\n",
    " function."
   ]
  },
  {
   "cell_type": "code",
   "execution_count": 1,
   "id": "51b9e7d3-ab5d-4971-90cb-08b14818a471",
   "metadata": {},
   "outputs": [],
   "source": [
    "def subs():\n",
    "    m = \"hello subscribers!!!\"\n",
    "    print(m)"
   ]
  },
  {
   "cell_type": "code",
   "execution_count": 2,
   "id": "b204cfb9-450b-42bc-af9f-fa164b4b202e",
   "metadata": {},
   "outputs": [
    {
     "name": "stdout",
     "output_type": "stream",
     "text": [
      "hello subscribers!!!\n"
     ]
    }
   ],
   "source": [
    "subs()"
   ]
  },
  {
   "cell_type": "code",
   "execution_count": 3,
   "id": "f4636b35-ed08-4446-8f15-7f3da6be9609",
   "metadata": {},
   "outputs": [
    {
     "ename": "NameError",
     "evalue": "name 'm' is not defined",
     "output_type": "error",
     "traceback": [
      "\u001b[1;31m---------------------------------------------------------------------------\u001b[0m",
      "\u001b[1;31mNameError\u001b[0m                                 Traceback (most recent call last)",
      "Cell \u001b[1;32mIn[3], line 1\u001b[0m\n\u001b[1;32m----> 1\u001b[0m \u001b[38;5;28mprint\u001b[39m(\u001b[43mm\u001b[49m)\n",
      "\u001b[1;31mNameError\u001b[0m: name 'm' is not defined"
     ]
    }
   ],
   "source": [
    "print(m)"
   ]
  },
  {
   "cell_type": "code",
   "execution_count": 4,
   "id": "5db78f18-7b71-4bd8-9e88-0e0d2783c83b",
   "metadata": {},
   "outputs": [],
   "source": [
    "#example-2\n",
    "\n",
    "\n",
    "def multip(a,b):\n",
    "    result = a*b\n",
    "    return result"
   ]
  },
  {
   "cell_type": "code",
   "execution_count": 6,
   "id": "8ec9bd59-fdd6-452f-bc88-d4f40f980f4e",
   "metadata": {},
   "outputs": [
    {
     "data": {
      "text/plain": [
       "64"
      ]
     },
     "execution_count": 6,
     "metadata": {},
     "output_type": "execute_result"
    }
   ],
   "source": [
    "multip(8,8)"
   ]
  },
  {
   "cell_type": "code",
   "execution_count": 7,
   "id": "f0c97891-df24-4cb6-a88b-7a22fe1a4310",
   "metadata": {},
   "outputs": [
    {
     "ename": "NameError",
     "evalue": "name 'result' is not defined",
     "output_type": "error",
     "traceback": [
      "\u001b[1;31m---------------------------------------------------------------------------\u001b[0m",
      "\u001b[1;31mNameError\u001b[0m                                 Traceback (most recent call last)",
      "Cell \u001b[1;32mIn[7], line 1\u001b[0m\n\u001b[1;32m----> 1\u001b[0m \u001b[38;5;28mprint\u001b[39m(\u001b[43mresult\u001b[49m)\n",
      "\u001b[1;31mNameError\u001b[0m: name 'result' is not defined"
     ]
    }
   ],
   "source": [
    "print(result)"
   ]
  },
  {
   "cell_type": "markdown",
   "id": "98372b88-8ed3-416a-a961-463bccb19996",
   "metadata": {},
   "source": [
    " ## Global Scope\n",
    " A variable defined outside any function has a global scope and is accessible throughout the\n",
    " program"
   ]
  },
  {
   "cell_type": "code",
   "execution_count": 8,
   "id": "5da36600-3565-46c3-a53e-15737f107763",
   "metadata": {},
   "outputs": [],
   "source": [
    "gscp = \"Please Please Subscribe!!\"\n",
    "\n",
    "def outside():\n",
    "    print(gscp)"
   ]
  },
  {
   "cell_type": "code",
   "execution_count": 9,
   "id": "03c97569-5598-4e20-9e03-b5dafcbe6dac",
   "metadata": {},
   "outputs": [
    {
     "name": "stdout",
     "output_type": "stream",
     "text": [
      "Please Please Subscribe!!\n"
     ]
    }
   ],
   "source": [
    "outside()"
   ]
  },
  {
   "cell_type": "code",
   "execution_count": 10,
   "id": "41dfe833-bf82-4100-aa6f-4f711c4fe098",
   "metadata": {},
   "outputs": [
    {
     "name": "stdout",
     "output_type": "stream",
     "text": [
      "Please Please Subscribe!!\n"
     ]
    }
   ],
   "source": [
    "print(gscp)"
   ]
  },
  {
   "cell_type": "code",
   "execution_count": 16,
   "id": "59059e69-319c-4637-98b3-d86073dc3598",
   "metadata": {},
   "outputs": [],
   "source": [
    "# example-2\n",
    "\n",
    "result = 0\n",
    "def add_numbers(a, b):\n",
    "    global result\n",
    "    result = a + b\n",
    "    return result"
   ]
  },
  {
   "cell_type": "code",
   "execution_count": 17,
   "id": "dcccc901-a994-456f-b678-53e5ceeeaee3",
   "metadata": {},
   "outputs": [
    {
     "data": {
      "text/plain": [
       "8"
      ]
     },
     "execution_count": 17,
     "metadata": {},
     "output_type": "execute_result"
    }
   ],
   "source": [
    "add_numbers(5, 3)\n"
   ]
  },
  {
   "cell_type": "code",
   "execution_count": 13,
   "id": "74f18871-ab09-4390-9920-f95af5456c47",
   "metadata": {},
   "outputs": [
    {
     "name": "stdout",
     "output_type": "stream",
     "text": [
      "8\n"
     ]
    }
   ],
   "source": [
    "print(result)"
   ]
  },
  {
   "cell_type": "markdown",
   "id": "a8ded591-d31c-43da-9666-c367583a908e",
   "metadata": {},
   "source": [
    "## Non-local Scope"
   ]
  },
  {
   "cell_type": "code",
   "execution_count": 18,
   "id": "a6b976d5-bb0f-46ed-a97e-921aa27ccb24",
   "metadata": {},
   "outputs": [
    {
     "name": "stdout",
     "output_type": "stream",
     "text": [
      "I am inside!\n"
     ]
    }
   ],
   "source": [
    "def outer_function():\n",
    "    outer_var = \"I am outside!\"\n",
    "    def inner_function():\n",
    "        nonlocal outer_var\n",
    "        outer_var = \"I am inside!\"\n",
    "    inner_function()\n",
    "    print(outer_var)\n",
    "outer_function()"
   ]
  },
  {
   "cell_type": "code",
   "execution_count": 19,
   "id": "2ee3b892-cfac-47cb-84cb-6630a8d22d93",
   "metadata": {},
   "outputs": [
    {
     "name": "stdout",
     "output_type": "stream",
     "text": [
      "I am inside!\n"
     ]
    }
   ],
   "source": [
    "outer_function()"
   ]
  },
  {
   "cell_type": "code",
   "execution_count": null,
   "id": "638f5bd0-5697-40df-9b55-c167eb044b03",
   "metadata": {},
   "outputs": [],
   "source": []
  }
 ],
 "metadata": {
  "kernelspec": {
   "display_name": "Python 3 (ipykernel)",
   "language": "python",
   "name": "python3"
  },
  "language_info": {
   "codemirror_mode": {
    "name": "ipython",
    "version": 3
   },
   "file_extension": ".py",
   "mimetype": "text/x-python",
   "name": "python",
   "nbconvert_exporter": "python",
   "pygments_lexer": "ipython3",
   "version": "3.11.7"
  }
 },
 "nbformat": 4,
 "nbformat_minor": 5
}
