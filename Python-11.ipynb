{
 "cells": [
  {
   "cell_type": "markdown",
   "id": "4e8f902a-7a44-464c-8446-3fae31e69a3e",
   "metadata": {},
   "source": [
    "# Sets"
   ]
  },
  {
   "cell_type": "code",
   "execution_count": 1,
   "id": "3d8455df-8c99-4926-81d0-88651063d6ee",
   "metadata": {},
   "outputs": [
    {
     "data": {
      "text/plain": [
       "{'apple', 'banana', 'cherry'}"
      ]
     },
     "execution_count": 1,
     "metadata": {},
     "output_type": "execute_result"
    }
   ],
   "source": [
    "fruits = {\"apple\", \"banana\", \"cherry\"}\n",
    "fruits"
   ]
  },
  {
   "cell_type": "code",
   "execution_count": 2,
   "id": "02e498f1-05d5-4a10-bcbf-e84d5605e8c7",
   "metadata": {},
   "outputs": [
    {
     "data": {
      "text/plain": [
       "set"
      ]
     },
     "execution_count": 2,
     "metadata": {},
     "output_type": "execute_result"
    }
   ],
   "source": [
    "type(fruits)"
   ]
  },
  {
   "cell_type": "code",
   "execution_count": 4,
   "id": "c14ebda5-e3bc-4664-ad74-4674f01cb464",
   "metadata": {},
   "outputs": [
    {
     "name": "stdout",
     "output_type": "stream",
     "text": [
      "{1, 2, 3, 4, 5, 6}\n"
     ]
    }
   ],
   "source": [
    "numbers = set([1, 2, 3, 4, 4, 5,5,5,5,5,5,6])\n",
    "print(numbers)"
   ]
  },
  {
   "cell_type": "markdown",
   "id": "9b7f3e77-635a-4011-9b7d-8abd9c33468e",
   "metadata": {},
   "source": [
    "## accessing elements.."
   ]
  },
  {
   "cell_type": "code",
   "execution_count": 5,
   "id": "687b0536-461c-4945-8355-2d3d492cff39",
   "metadata": {},
   "outputs": [
    {
     "name": "stdout",
     "output_type": "stream",
     "text": [
      "cherry\n",
      "banana\n",
      "apple\n"
     ]
    }
   ],
   "source": [
    "for fruit in fruits:\n",
    " print(fruit)"
   ]
  },
  {
   "cell_type": "markdown",
   "id": "d40c8402-cfc1-458a-b26b-cbbb0d87af34",
   "metadata": {},
   "source": [
    "## Modifying elements...."
   ]
  },
  {
   "cell_type": "code",
   "execution_count": 6,
   "id": "866fbceb-e259-49d8-956e-ea457d22f75f",
   "metadata": {},
   "outputs": [],
   "source": [
    "fruits = {\"apple\", \"banana\"}"
   ]
  },
  {
   "cell_type": "code",
   "execution_count": 10,
   "id": "d1a39564-b442-45f1-b3d0-5f4d23212298",
   "metadata": {},
   "outputs": [
    {
     "name": "stdout",
     "output_type": "stream",
     "text": [
      "{'banana', 'apple'}\n"
     ]
    },
    {
     "data": {
      "text/plain": [
       "set"
      ]
     },
     "execution_count": 10,
     "metadata": {},
     "output_type": "execute_result"
    }
   ],
   "source": [
    "print(fruits)\n",
    "type(fruits)"
   ]
  },
  {
   "cell_type": "code",
   "execution_count": 12,
   "id": "34775d77-186a-4a87-af7d-54a093cacb5a",
   "metadata": {},
   "outputs": [
    {
     "name": "stdout",
     "output_type": "stream",
     "text": [
      "{'cherry', 'banana', 'apple'}\n"
     ]
    }
   ],
   "source": [
    "# Adding an item\n",
    "fruits.add(\"cherry\")\n",
    "print(fruits)"
   ]
  },
  {
   "cell_type": "code",
   "execution_count": 13,
   "id": "26b0e828-8e06-4394-a2cd-a36868f25fe4",
   "metadata": {},
   "outputs": [
    {
     "name": "stdout",
     "output_type": "stream",
     "text": [
      "{'cherry', 'banana', 'apple', 'dragon fruits'}\n"
     ]
    }
   ],
   "source": [
    "# Adding an item\n",
    "fruits.add(\"dragon fruits\")\n",
    "print(fruits)"
   ]
  },
  {
   "cell_type": "code",
   "execution_count": 14,
   "id": "945e4a2b-6744-4868-ae25-32f66f91d5d6",
   "metadata": {},
   "outputs": [
    {
     "name": "stdout",
     "output_type": "stream",
     "text": [
      "{'cherry', 'apple', 'dragon fruits'}\n"
     ]
    }
   ],
   "source": [
    "# Removing an item using remove()\n",
    "fruits.remove(\"banana\")\n",
    "print(fruits)"
   ]
  },
  {
   "cell_type": "code",
   "execution_count": 15,
   "id": "bd1c01a0-7cbf-42b3-a18b-546462ff1794",
   "metadata": {},
   "outputs": [
    {
     "name": "stdout",
     "output_type": "stream",
     "text": [
      "{'cherry', 'dragon fruits'}\n"
     ]
    }
   ],
   "source": [
    "# Removing an item using discard()\n",
    "fruits.discard(\"apple\")\n",
    "print(fruits)"
   ]
  },
  {
   "cell_type": "code",
   "execution_count": 17,
   "id": "23555c15-ac76-4b12-a506-82d4c324f1bd",
   "metadata": {},
   "outputs": [
    {
     "name": "stdout",
     "output_type": "stream",
     "text": [
      "dragon fruits\n",
      "set()\n"
     ]
    }
   ],
   "source": [
    "# Removing an item using pop()\n",
    "removed_item = fruits.pop()\n",
    "print(removed_item)\n",
    "print(fruits)"
   ]
  },
  {
   "cell_type": "markdown",
   "id": "6e6eb7c1-395f-4e82-813a-38be9c549c55",
   "metadata": {},
   "source": [
    "## Set Operations"
   ]
  },
  {
   "cell_type": "code",
   "execution_count": 18,
   "id": "7215d977-99fc-4407-a72c-2c5b9c22c97f",
   "metadata": {},
   "outputs": [
    {
     "name": "stdout",
     "output_type": "stream",
     "text": [
      "{1, 2, 3, 4, 5}\n"
     ]
    }
   ],
   "source": [
    "#union Operation\n",
    "\n",
    "A = {1, 2, 3}\n",
    "B = {3, 4, 5}\n",
    "union_set = A.union(B)\n",
    "print(union_set)"
   ]
  },
  {
   "cell_type": "code",
   "execution_count": 20,
   "id": "b684dbb6-b0dd-44f4-9128-63d5ab274c2d",
   "metadata": {},
   "outputs": [
    {
     "name": "stdout",
     "output_type": "stream",
     "text": [
      "{3, 4}\n"
     ]
    }
   ],
   "source": [
    "#intersection Operation\n",
    "\n",
    "A = {1, 2, 3,4}\n",
    "B = {3, 4, 5,6}\n",
    "intersection_set = A.intersection(B)\n",
    "print(intersection_set)"
   ]
  },
  {
   "cell_type": "code",
   "execution_count": 22,
   "id": "93d5bedd-4e72-4fe5-90a3-385912e4593b",
   "metadata": {},
   "outputs": [
    {
     "name": "stdout",
     "output_type": "stream",
     "text": [
      "{1, 2, 6}\n"
     ]
    }
   ],
   "source": [
    "#difference Operation \n",
    "\n",
    "A = {1, 2, 3,4,6}\n",
    "B = {3, 4, 5}\n",
    "difference_set = A.difference(B)\n",
    "print(difference_set)"
   ]
  },
  {
   "cell_type": "code",
   "execution_count": 24,
   "id": "aa6e1d40-b3f9-4114-80d2-6f75928c16df",
   "metadata": {},
   "outputs": [
    {
     "name": "stdout",
     "output_type": "stream",
     "text": [
      "{1, 2, 5, 6}\n"
     ]
    }
   ],
   "source": [
    "#symmetric difference\n",
    "\n",
    "A = {1, 2, 3,4,6}\n",
    "B = {3, 4, 5}\n",
    "symmetric_difference_set = A.symmetric_difference(B)\n",
    "print(symmetric_difference_set)"
   ]
  },
  {
   "cell_type": "markdown",
   "id": "7a48a1f1-82c0-45f7-9825-677a2c3d4bee",
   "metadata": {},
   "source": [
    "## Example for SETS"
   ]
  },
  {
   "cell_type": "code",
   "execution_count": 25,
   "id": "fd23f34c-4833-4d09-8eec-352a3cc5035b",
   "metadata": {},
   "outputs": [
    {
     "name": "stdout",
     "output_type": "stream",
     "text": [
      "Common Tags: {'coding', 'AI'}\n",
      "Unique to Post 1: {'python', 'data'}\n",
      "Unique to Post 2: {'development', 'machine learning'}\n",
      "Unique Tags in Either Post but not Both: {'development', 'data', 'python', 'machine learning'}\n"
     ]
    }
   ],
   "source": [
    "# Tags from two social media posts\n",
    "post1_tags = {\"python\", \"coding\", \"AI\", \"data\"}\n",
    "post2_tags = {\"AI\", \"machine learning\", \"coding\", \"development\"}\n",
    "\n",
    "# Finding common tags (intersection)\n",
    "common_tags = post1_tags.intersection(post2_tags)\n",
    "print(\"Common Tags:\", common_tags)\n",
    "\n",
    "# Finding unique tags in post1 (difference)\n",
    "unique_to_post1 = post1_tags.difference(post2_tags)\n",
    "print(\"Unique to Post 1:\", unique_to_post1)\n",
    "\n",
    "# Finding unique tags in post2 (difference)\n",
    "unique_to_post2 = post2_tags.difference(post1_tags)\n",
    "print(\"Unique to Post 2:\", unique_to_post2)\n",
    "\n",
    "#Finding tags that are in either post but not both (symmetric difference)\n",
    "unique_tags = post1_tags.symmetric_difference(post2_tags)\n",
    "print(\"Unique Tags in Either Post but not Both:\", unique_tags)"
   ]
  },
  {
   "cell_type": "code",
   "execution_count": null,
   "id": "fbfebb24-ddbd-4b17-9fc0-9ee779dca855",
   "metadata": {},
   "outputs": [],
   "source": []
  }
 ],
 "metadata": {
  "kernelspec": {
   "display_name": "Python 3 (ipykernel)",
   "language": "python",
   "name": "python3"
  },
  "language_info": {
   "codemirror_mode": {
    "name": "ipython",
    "version": 3
   },
   "file_extension": ".py",
   "mimetype": "text/x-python",
   "name": "python",
   "nbconvert_exporter": "python",
   "pygments_lexer": "ipython3",
   "version": "3.11.7"
  }
 },
 "nbformat": 4,
 "nbformat_minor": 5
}
