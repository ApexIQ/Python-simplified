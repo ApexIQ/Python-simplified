{
 "cells": [
  {
   "cell_type": "code",
   "execution_count": 1,
   "id": "dac07084-6742-4e1e-a260-69226054e75a",
   "metadata": {},
   "outputs": [
    {
     "name": "stdout",
     "output_type": "stream",
     "text": [
      "Hello, Subscribers!!\n"
     ]
    }
   ],
   "source": [
    " greeting = \"Hello\"\n",
    " name = \"Subscribers!\"\n",
    " message = greeting + \", \" + name + \"!\"\n",
    " print(message)"
   ]
  },
  {
   "cell_type": "markdown",
   "id": "ce06adeb-036b-432c-be6b-07006cadec1b",
   "metadata": {},
   "source": [
    "### Concatination"
   ]
  },
  {
   "cell_type": "code",
   "execution_count": 4,
   "id": "405f1266-e9ac-4804-a0da-cc1c121ebfea",
   "metadata": {},
   "outputs": [
    {
     "name": "stdout",
     "output_type": "stream",
     "text": [
      "Hello, Subscribers!!\n"
     ]
    }
   ],
   "source": [
    " greeting = 'Hello'\n",
    " name = 'Subscribers!'\n",
    " message = greeting + \", \" + name + \"!\"\n",
    " print(message)"
   ]
  },
  {
   "cell_type": "markdown",
   "id": "079a2b5a-d59b-4580-96cc-fb92d61a7ddb",
   "metadata": {},
   "source": [
    "### Repitation"
   ]
  },
  {
   "cell_type": "code",
   "execution_count": 8,
   "id": "6265c144-9fa6-434c-8c00-cd0be1fa3ad5",
   "metadata": {},
   "outputs": [
    {
     "name": "stdout",
     "output_type": "stream",
     "text": [
      "sai sai sai sai sai sai sai sai sai sai \n"
     ]
    }
   ],
   "source": [
    " separator = \"sai \" * 10\n",
    " print(separator)"
   ]
  },
  {
   "cell_type": "markdown",
   "id": "7a5b0e91-15a0-4f70-b411-d0b6ce5dd8d3",
   "metadata": {},
   "source": [
    "### Indexing"
   ]
  },
  {
   "cell_type": "raw",
   "id": "c6f861b3-3ddb-4508-af02-95ac711cfb65",
   "metadata": {},
   "source": [
    "Index position to access each element\n",
    "h:0 e:1 l:2 l:3 o:4 ,:5 <space>:6"
   ]
  },
  {
   "cell_type": "code",
   "execution_count": 10,
   "id": "cc06abf4-b992-48f6-9dbe-af00b061a987",
   "metadata": {},
   "outputs": [
    {
     "data": {
      "text/plain": [
       "'H'"
      ]
     },
     "execution_count": 10,
     "metadata": {},
     "output_type": "execute_result"
    }
   ],
   "source": [
    "word = \"Hello, Subscribers!!\"\n",
    "letter1 = word[0]\n",
    "letter1"
   ]
  },
  {
   "cell_type": "code",
   "execution_count": 11,
   "id": "d0248dae-3659-4ad8-9ad1-3537fcc2387e",
   "metadata": {},
   "outputs": [
    {
     "data": {
      "text/plain": [
       "'!'"
      ]
     },
     "execution_count": 11,
     "metadata": {},
     "output_type": "execute_result"
    }
   ],
   "source": [
    "letter = word[-1]\n",
    "letter"
   ]
  },
  {
   "cell_type": "code",
   "execution_count": 12,
   "id": "bda78b0f-ab72-4d03-bc10-195d039d4726",
   "metadata": {},
   "outputs": [
    {
     "data": {
      "text/plain": [
       "'!!srebircsbuS ,olleH'"
      ]
     },
     "execution_count": 12,
     "metadata": {},
     "output_type": "execute_result"
    }
   ],
   "source": [
    "reverse = word[::-1]\n",
    "reverse"
   ]
  },
  {
   "cell_type": "code",
   "execution_count": 13,
   "id": "9dd85c85-0a61-4698-a200-9274c26f244f",
   "metadata": {},
   "outputs": [
    {
     "data": {
      "text/plain": [
       "'llo'"
      ]
     },
     "execution_count": 13,
     "metadata": {},
     "output_type": "execute_result"
    }
   ],
   "source": [
    "substring = word[2:5]\n",
    "substring"
   ]
  },
  {
   "cell_type": "markdown",
   "id": "86aba88e-6fda-401a-b086-4aa4912421f7",
   "metadata": {},
   "source": [
    "### Formatting Strings"
   ]
  },
  {
   "cell_type": "code",
   "execution_count": 16,
   "id": "e0c4f119-334f-4921-a71e-fc081bb8687d",
   "metadata": {},
   "outputs": [
    {
     "data": {
      "text/plain": [
       "'My name is Saikumar and I am 22 years old.'"
      ]
     },
     "execution_count": 16,
     "metadata": {},
     "output_type": "execute_result"
    }
   ],
   "source": [
    "name = \"Saikumar\"\n",
    "age = 22\n",
    "message_1 = \"My name is {} and I am {} years old.\".format(name, age)\n",
    "message_1"
   ]
  },
  {
   "cell_type": "code",
   "execution_count": 18,
   "id": "fcade950-7482-4c3c-af16-934f843556ef",
   "metadata": {},
   "outputs": [
    {
     "data": {
      "text/plain": [
       "'My name is Saikumar and I am 22 years old.'"
      ]
     },
     "execution_count": 18,
     "metadata": {},
     "output_type": "execute_result"
    }
   ],
   "source": [
    "message_2 = f\"My name is {name} and I am {age} years old.\"\n",
    "message_2"
   ]
  },
  {
   "cell_type": "markdown",
   "id": "aba1a7c0-a22f-47d7-91bc-245761f1736f",
   "metadata": {},
   "source": [
    "## CommonMethodsofString"
   ]
  },
  {
   "cell_type": "code",
   "execution_count": 20,
   "id": "48f6d54a-c553-4a2f-802f-a2b2b1733e39",
   "metadata": {},
   "outputs": [
    {
     "data": {
      "text/plain": [
       "'HELLO, SUBSCRIBERS!!'"
      ]
     },
     "execution_count": 20,
     "metadata": {},
     "output_type": "execute_result"
    }
   ],
   "source": [
    "word = \"Hello, Subscribers!!\"\n",
    "word.upper()"
   ]
  },
  {
   "cell_type": "code",
   "execution_count": 21,
   "id": "b6398885-7977-467a-8bd6-d93e4b9d9b71",
   "metadata": {},
   "outputs": [
    {
     "data": {
      "text/plain": [
       "'hello, subscribers!!'"
      ]
     },
     "execution_count": 21,
     "metadata": {},
     "output_type": "execute_result"
    }
   ],
   "source": [
    "word.lower()"
   ]
  },
  {
   "cell_type": "code",
   "execution_count": 23,
   "id": "503f9bd8-2719-4523-907e-2d2cc053f008",
   "metadata": {},
   "outputs": [
    {
     "data": {
      "text/plain": [
       "-1"
      ]
     },
     "execution_count": 23,
     "metadata": {},
     "output_type": "execute_result"
    }
   ],
   "source": [
    "word.find(\"SUBSCRIBERS\")"
   ]
  },
  {
   "cell_type": "code",
   "execution_count": 24,
   "id": "6d323f2f-1688-4b76-b1a5-cad7f6c0d302",
   "metadata": {},
   "outputs": [
    {
     "data": {
      "text/plain": [
       "['Hello,', 'Subscribers!!']"
      ]
     },
     "execution_count": 24,
     "metadata": {},
     "output_type": "execute_result"
    }
   ],
   "source": [
    "word.split()"
   ]
  },
  {
   "cell_type": "code",
   "execution_count": 25,
   "id": "55d80c0f-1929-49f9-9300-9a79764c6aa6",
   "metadata": {},
   "outputs": [
    {
     "data": {
      "text/plain": [
       "20"
      ]
     },
     "execution_count": 25,
     "metadata": {},
     "output_type": "execute_result"
    }
   ],
   "source": [
    "len(word)"
   ]
  },
  {
   "cell_type": "markdown",
   "id": "de870127-c3f8-4664-adf0-b6d838ce8f51",
   "metadata": {},
   "source": [
    " ### strip(), lstrip(), and rstrip()"
   ]
  },
  {
   "cell_type": "code",
   "execution_count": 26,
   "id": "b3a63e63-f77f-4dfc-992d-b6713103f396",
   "metadata": {},
   "outputs": [
    {
     "name": "stdout",
     "output_type": "stream",
     "text": [
      "Python\n"
     ]
    }
   ],
   "source": [
    "text_1 = \"     Python        \"\n",
    "text_2 = \"   Programming        \"\n",
    "text_3 = \"     Language      \"\n",
    "print(text_1.strip())"
   ]
  },
  {
   "cell_type": "code",
   "execution_count": 27,
   "id": "d61cafb3-92e0-43d6-9ec1-f4d3065722d3",
   "metadata": {},
   "outputs": [
    {
     "data": {
      "text/plain": [
       "'Programming        '"
      ]
     },
     "execution_count": 27,
     "metadata": {},
     "output_type": "execute_result"
    }
   ],
   "source": [
    "text_2.lstrip()"
   ]
  },
  {
   "cell_type": "code",
   "execution_count": 28,
   "id": "1b451c87-9f48-431a-96f1-e39eb7520ffd",
   "metadata": {},
   "outputs": [
    {
     "data": {
      "text/plain": [
       "'   Programming'"
      ]
     },
     "execution_count": 28,
     "metadata": {},
     "output_type": "execute_result"
    }
   ],
   "source": [
    "text_2.rstrip()"
   ]
  },
  {
   "cell_type": "code",
   "execution_count": 29,
   "id": "4e60b09e-d687-40de-b87b-e16cc5d89545",
   "metadata": {},
   "outputs": [
    {
     "data": {
      "text/plain": [
       "'Hello, Subscribers welcome to Our youtube channel'"
      ]
     },
     "execution_count": 29,
     "metadata": {},
     "output_type": "execute_result"
    }
   ],
   "source": [
    "sentence = \"Hello, Subscribers welcome to my youtube channel\"\n",
    "sentence.replace(\"my\",\"Our\")"
   ]
  },
  {
   "cell_type": "code",
   "execution_count": 31,
   "id": "ccf2beba-3bca-4e00-8dda-0061fa850624",
   "metadata": {},
   "outputs": [
    {
     "data": {
      "text/plain": [
       "3"
      ]
     },
     "execution_count": 31,
     "metadata": {},
     "output_type": "execute_result"
    }
   ],
   "source": [
    "sentence.count(\"u\")"
   ]
  },
  {
   "cell_type": "code",
   "execution_count": 34,
   "id": "49af1bd0-8879-48be-b968-c7420506ad85",
   "metadata": {},
   "outputs": [
    {
     "data": {
      "text/plain": [
       "True"
      ]
     },
     "execution_count": 34,
     "metadata": {},
     "output_type": "execute_result"
    }
   ],
   "source": [
    "sentence.startswith(\"Hello\")"
   ]
  },
  {
   "cell_type": "code",
   "execution_count": 35,
   "id": "5ab42898-2b5d-4511-ae46-5d62daeadf95",
   "metadata": {},
   "outputs": [
    {
     "data": {
      "text/plain": [
       "True"
      ]
     },
     "execution_count": 35,
     "metadata": {},
     "output_type": "execute_result"
    }
   ],
   "source": [
    "sentence.endswith(\"channel\")"
   ]
  },
  {
   "cell_type": "code",
   "execution_count": 36,
   "id": "2b2d07bf-a05b-473c-981d-d342f16c2b87",
   "metadata": {},
   "outputs": [
    {
     "data": {
      "text/plain": [
       "'Python is fun'"
      ]
     },
     "execution_count": 36,
     "metadata": {},
     "output_type": "execute_result"
    }
   ],
   "source": [
    "words = [\"Python\", \"is\", \"fun\"]\n",
    "sentence = \" \".join(words)\n",
    "sentence"
   ]
  },
  {
   "cell_type": "markdown",
   "id": "bfd24d8f-2acd-4a3e-aeb9-4a7aea75d449",
   "metadata": {},
   "source": [
    "### capitalize(), title(), and swapcase()"
   ]
  },
  {
   "cell_type": "code",
   "execution_count": 39,
   "id": "f1209ad5-908c-4c54-9d46-e6d6632626fe",
   "metadata": {},
   "outputs": [
    {
     "data": {
      "text/plain": [
       "'Python is fun'"
      ]
     },
     "execution_count": 39,
     "metadata": {},
     "output_type": "execute_result"
    }
   ],
   "source": [
    "sentence.capitalize()"
   ]
  },
  {
   "cell_type": "code",
   "execution_count": 40,
   "id": "6ada5f89-12a6-48a2-9db1-4255677f3a4d",
   "metadata": {},
   "outputs": [
    {
     "data": {
      "text/plain": [
       "'Python Is Fun'"
      ]
     },
     "execution_count": 40,
     "metadata": {},
     "output_type": "execute_result"
    }
   ],
   "source": [
    "sentence.title()"
   ]
  },
  {
   "cell_type": "code",
   "execution_count": 41,
   "id": "6f5ef2d4-6ec8-430b-b739-d6a60adc02f6",
   "metadata": {},
   "outputs": [
    {
     "data": {
      "text/plain": [
       "'pYTHON IS FUN'"
      ]
     },
     "execution_count": 41,
     "metadata": {},
     "output_type": "execute_result"
    }
   ],
   "source": [
    "sentence.swapcase()"
   ]
  },
  {
   "cell_type": "code",
   "execution_count": null,
   "id": "b3a629f4-0a8a-422f-bc77-6870a54eaeb5",
   "metadata": {},
   "outputs": [],
   "source": []
  }
 ],
 "metadata": {
  "kernelspec": {
   "display_name": "Python 3 (ipykernel)",
   "language": "python",
   "name": "python3"
  },
  "language_info": {
   "codemirror_mode": {
    "name": "ipython",
    "version": 3
   },
   "file_extension": ".py",
   "mimetype": "text/x-python",
   "name": "python",
   "nbconvert_exporter": "python",
   "pygments_lexer": "ipython3",
   "version": "3.11.7"
  }
 },
 "nbformat": 4,
 "nbformat_minor": 5
}
