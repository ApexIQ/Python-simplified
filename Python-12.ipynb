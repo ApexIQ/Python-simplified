{
 "cells": [
  {
   "cell_type": "markdown",
   "id": "8a3a9f74-97b7-43e0-a19d-7521db3ad976",
   "metadata": {},
   "source": [
    "# Control Statements"
   ]
  },
  {
   "cell_type": "markdown",
   "id": "20526460-2707-41ae-b157-596ba3c7f9a2",
   "metadata": {},
   "source": [
    "## Simple If statement"
   ]
  },
  {
   "cell_type": "code",
   "execution_count": 3,
   "id": "9eb1d75d-62ba-48ab-ab4d-e47174b61574",
   "metadata": {},
   "outputs": [
    {
     "name": "stdout",
     "output_type": "stream",
     "text": [
      "you are a Adult person\n"
     ]
    }
   ],
   "source": [
    "age = 20\n",
    "if age >= 18:\n",
    "    print(\"you are a Adult person\")"
   ]
  },
  {
   "cell_type": "markdown",
   "id": "074fff3f-8f85-4768-86d5-55d87267ff84",
   "metadata": {},
   "source": [
    "#  if and else Statement"
   ]
  },
  {
   "cell_type": "code",
   "execution_count": 5,
   "id": "1f853dbd-bc30-4688-a207-bbc3a4209a2f",
   "metadata": {},
   "outputs": [
    {
     "name": "stdin",
     "output_type": "stream",
     "text": [
      " 20\n"
     ]
    },
    {
     "name": "stdout",
     "output_type": "stream",
     "text": [
      "you are a Adult person\n"
     ]
    }
   ],
   "source": [
    "age = int(input())\n",
    "if age >= 18:\n",
    "    print(\"you are a Adult person\")\n",
    "else:\n",
    "    print(\"Your are Under-age kid\")"
   ]
  },
  {
   "cell_type": "markdown",
   "id": "8391648b-4478-480c-9b18-db954bf71e96",
   "metadata": {},
   "source": [
    " ## if, elif, and else Statement"
   ]
  },
  {
   "cell_type": "code",
   "execution_count": 8,
   "id": "af729da3-602a-4a33-8939-afbb33058816",
   "metadata": {},
   "outputs": [
    {
     "name": "stdin",
     "output_type": "stream",
     "text": [
      " 15\n"
     ]
    },
    {
     "name": "stdout",
     "output_type": "stream",
     "text": [
      "You are a teenager.\n"
     ]
    }
   ],
   "source": [
    "age = int(input())\n",
    "if age < 13:\n",
    "    print(\"You are a child.\")\n",
    "elif 13 <= age < 18:\n",
    "    print(\"You are a teenager.\")\n",
    "else:\n",
    "    print(\"You are an adult.\")"
   ]
  },
  {
   "cell_type": "code",
   "execution_count": 10,
   "id": "4c17f56f-ee66-4db3-99c0-94fdd2f5cc04",
   "metadata": {},
   "outputs": [
    {
     "name": "stdin",
     "output_type": "stream",
     "text": [
      " 17\n"
     ]
    },
    {
     "name": "stdout",
     "output_type": "stream",
     "text": [
      "You are a teenager.\n"
     ]
    }
   ],
   "source": [
    "age = int(input())\n",
    "if age < 13:\n",
    "    print(\"You are a child.\")\n",
    "elif 13 <= age < 18:\n",
    "    print(\"You are a teenager.\")\n",
    "elif 18 <= age < 50:\n",
    "    print(\"You are a family man\")\n",
    "else:\n",
    "    print(\"You are an adult.\")"
   ]
  },
  {
   "cell_type": "markdown",
   "id": "c931d5f9-f0ee-4e78-9d2d-8e26dfa5acc5",
   "metadata": {},
   "source": [
    "## Combining Conditions"
   ]
  },
  {
   "cell_type": "code",
   "execution_count": 18,
   "id": "622b92d0-50da-4e90-9c02-0788ce5fa0c7",
   "metadata": {},
   "outputs": [
    {
     "name": "stdin",
     "output_type": "stream",
     "text": [
      " 55\n"
     ]
    },
    {
     "name": "stdout",
     "output_type": "stream",
     "text": [
      "You cannot enter the concert.\n"
     ]
    }
   ],
   "source": [
    "age = int(input())\n",
    "has_ticket = True\n",
    "if age <= 18 and has_ticket:\n",
    "    print(\"You can enter the coldplay concert.\")\n",
    "elif 18 <= age < 35 and has_ticket:\n",
    "    print(\"You are a family man can enter the show\")\n",
    "else:\n",
    "    print(\"You cannot enter the concert.\")"
   ]
  },
  {
   "cell_type": "markdown",
   "id": "228d84df-3b9a-4513-b275-5779b78b63ff",
   "metadata": {},
   "source": [
    "##  Nested Conditions"
   ]
  },
  {
   "cell_type": "code",
   "execution_count": 22,
   "id": "9596a8b1-2075-4d66-828c-606dc115f7e7",
   "metadata": {},
   "outputs": [
    {
     "name": "stdout",
     "output_type": "stream",
     "text": [
      "Welcome to the VIP section.\n"
     ]
    }
   ],
   "source": [
    "age = 20\n",
    "has_ticket = True\n",
    "is_vip = True\n",
    " \n",
    "if age >= 18:\n",
    "    if has_ticket:\n",
    "        if is_vip:\n",
    "            print(\"Welcome to the VIP section.\")\n",
    "        else:\n",
    "            print(\"Welcome to the concert.\")\n",
    "    else:\n",
    "        print(\"You need a ticket to enter.\")\n",
    "else:\n",
    "    print(\"You are too young to enter.\")"
   ]
  },
  {
   "cell_type": "code",
   "execution_count": null,
   "id": "10190e16-8eaf-4dec-9ad5-3fda7a4a25a3",
   "metadata": {},
   "outputs": [],
   "source": []
  }
 ],
 "metadata": {
  "kernelspec": {
   "display_name": "Python 3 (ipykernel)",
   "language": "python",
   "name": "python3"
  },
  "language_info": {
   "codemirror_mode": {
    "name": "ipython",
    "version": 3
   },
   "file_extension": ".py",
   "mimetype": "text/x-python",
   "name": "python",
   "nbconvert_exporter": "python",
   "pygments_lexer": "ipython3",
   "version": "3.11.7"
  }
 },
 "nbformat": 4,
 "nbformat_minor": 5
}
