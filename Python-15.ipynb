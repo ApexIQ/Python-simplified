{
 "cells": [
  {
   "cell_type": "markdown",
   "id": "dbe55990-b134-43b1-bb94-daa36d5b05e4",
   "metadata": {},
   "source": [
    "# List Comprehension"
   ]
  },
  {
   "cell_type": "code",
   "execution_count": 2,
   "id": "da733e64-f7d9-4de4-a336-effe8afbae76",
   "metadata": {},
   "outputs": [
    {
     "name": "stdout",
     "output_type": "stream",
     "text": [
      "[0, 1, 4, 9, 16, 25, 36, 49, 64, 81]\n"
     ]
    }
   ],
   "source": [
    "# Let's create a list of squares of numbers from 0 to 9.\n",
    "\n",
    "# list method\n",
    "squares = []\n",
    "for x in range(10):\n",
    "  squares.append(x**2)\n",
    "print(squares)"
   ]
  },
  {
   "cell_type": "code",
   "execution_count": 3,
   "id": "8003cb22-47d2-496b-8d7e-4811f6cb7b7f",
   "metadata": {},
   "outputs": [
    {
     "name": "stdout",
     "output_type": "stream",
     "text": [
      "[0, 1, 4, 9, 16, 25, 36, 49, 64, 81]\n"
     ]
    }
   ],
   "source": [
    "# code in list comprehension\n",
    "\n",
    "squares = [x**2 for x in range(10)]\n",
    "print(squares)"
   ]
  },
  {
   "cell_type": "code",
   "execution_count": 7,
   "id": "82fc8220-0f34-4790-9595-ada8861c05ba",
   "metadata": {},
   "outputs": [
    {
     "name": "stdout",
     "output_type": "stream",
     "text": [
      "[0, 4, 16, 36, 64]\n"
     ]
    }
   ],
   "source": [
    "#  let's create a list of squares for only even numbers from 0 to 9.\n",
    "\n",
    "# list method\n",
    "even_squares = []\n",
    "for x in range(10):\n",
    "    if x%2==0:\n",
    "        even_squares.append(x**2)\n",
    "print(even_squares)\n"
   ]
  },
  {
   "cell_type": "code",
   "execution_count": 8,
   "id": "679dfc9a-cadf-490b-acc8-c0f030604101",
   "metadata": {},
   "outputs": [
    {
     "name": "stdout",
     "output_type": "stream",
     "text": [
      "[0, 4, 16, 36, 64]\n"
     ]
    }
   ],
   "source": [
    "# list comprehension method\n",
    "even_squares = [x**2 for x in range(10) if x%2==0]\n",
    "print(even_squares)"
   ]
  },
  {
   "cell_type": "code",
   "execution_count": 10,
   "id": "d1d25d0f-b486-478a-a45f-cd54be630287",
   "metadata": {},
   "outputs": [
    {
     "name": "stdout",
     "output_type": "stream",
     "text": [
      "[1, 2, 3, 4, 5, 6, 7, 8, 9]\n"
     ]
    }
   ],
   "source": [
    "# write program to convert 2d array  to 1d array.\n",
    "\n",
    "#normal list code\n",
    "matrix = [[1, 2, 3], [4, 5, 6], [7, 8, 9]]\n",
    "flat_list = []\n",
    "\n",
    "for i in matrix:\n",
    "    for j in i:\n",
    "        flat_list.append(j)\n",
    "print(flat_list)"
   ]
  },
  {
   "cell_type": "code",
   "execution_count": 11,
   "id": "cb752d06-d8d7-4bd6-b724-6f8101a09f7a",
   "metadata": {},
   "outputs": [
    {
     "name": "stdout",
     "output_type": "stream",
     "text": [
      "[1, 2, 3, 4, 5, 6, 7, 8, 9]\n"
     ]
    }
   ],
   "source": [
    "# list comprension\n",
    "\n",
    "matrix = [[1, 2, 3], [4, 5, 6], [7, 8, 9]]\n",
    "flat_list = [item for i in matrix for item in i]\n",
    "print(flat_list)"
   ]
  },
  {
   "cell_type": "markdown",
   "id": "8146b762-a70c-484c-8b1c-7399022d5c03",
   "metadata": {},
   "source": [
    "# problem statment\n",
    "\n",
    "##  You have a list of strings containing both words and numbers. Write a Python program to create a new list that includes only the words (strings without any digits)."
   ]
  },
  {
   "cell_type": "code",
   "execution_count": 12,
   "id": "f0013a16-75b5-4ea0-b030-e0a479280b2f",
   "metadata": {},
   "outputs": [
    {
     "name": "stdout",
     "output_type": "stream",
     "text": [
      "Filtered Word List: ['apple', 'banana', 'cherry']\n"
     ]
    }
   ],
   "source": [
    "# list method \n",
    "\n",
    "mixed_list = ['apple', '123', 'banana', '456', 'cherry']\n",
    "word_list = []\n",
    "\n",
    "for item in mixed_list:\n",
    "  has_digit = False\n",
    "  for char in item:\n",
    "    if char.isdigit():\n",
    "      has_digit = True\n",
    "      break  # No need to check further if a digit is found\n",
    "\n",
    "  if not has_digit:\n",
    "    word_list.append(item)\n",
    "\n",
    "print(\"Filtered Word List:\", word_list)"
   ]
  },
  {
   "cell_type": "code",
   "execution_count": 13,
   "id": "77a14fbe-7468-4a57-983a-7fcfb4f57c7c",
   "metadata": {},
   "outputs": [
    {
     "name": "stdout",
     "output_type": "stream",
     "text": [
      "Filtered Word List: ['apple', 'banana', 'cherry']\n"
     ]
    }
   ],
   "source": [
    "# list comprehension\n",
    "\n",
    "mixed_list = ['apple', '123', 'banana', '456', 'cherry']\n",
    "# List comprehension to filter out strings containing digits\n",
    "word_list = [item for item in mixed_list if not any(char.isdigit() for char in item)]\n",
    "print(\"Filtered Word List:\", word_list)"
   ]
  },
  {
   "cell_type": "code",
   "execution_count": null,
   "id": "82d56605-449e-4896-9ecf-4e0610077827",
   "metadata": {},
   "outputs": [],
   "source": []
  }
 ],
 "metadata": {
  "kernelspec": {
   "display_name": "Python 3 (ipykernel)",
   "language": "python",
   "name": "python3"
  },
  "language_info": {
   "codemirror_mode": {
    "name": "ipython",
    "version": 3
   },
   "file_extension": ".py",
   "mimetype": "text/x-python",
   "name": "python",
   "nbconvert_exporter": "python",
   "pygments_lexer": "ipython3",
   "version": "3.11.7"
  }
 },
 "nbformat": 4,
 "nbformat_minor": 5
}
