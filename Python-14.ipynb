{
 "cells": [
  {
   "cell_type": "markdown",
   "id": "de7b9a01-132a-475a-bf7c-29a43ed48b6a",
   "metadata": {},
   "source": [
    "# Break && Continue Statements"
   ]
  },
  {
   "cell_type": "raw",
   "id": "3295e4a7-baeb-40c2-b63d-06b59d78cc02",
   "metadata": {},
   "source": [
    "# Syntax - Break\n",
    "\n",
    "for variable in sequence:\n",
    "    if condition:\n",
    "        break"
   ]
  },
  {
   "cell_type": "code",
   "execution_count": 4,
   "id": "0e1f6e71-1efc-41ff-a7ed-9d88da487ffd",
   "metadata": {},
   "outputs": [
    {
     "name": "stdout",
     "output_type": "stream",
     "text": [
      "0\n",
      "1\n",
      "2\n",
      "3\n",
      "4\n"
     ]
    }
   ],
   "source": [
    "for i in range(10):\n",
    "    if i == 5:\n",
    "        break\n",
    "    print(i)"
   ]
  },
  {
   "cell_type": "code",
   "execution_count": 6,
   "id": "efe0c15d-54b6-4a4b-926c-3e3407e12d79",
   "metadata": {},
   "outputs": [
    {
     "name": "stdout",
     "output_type": "stream",
     "text": [
      "apples is not bread.\n",
      "bananas is not bread.\n",
      "Found bread!\n"
     ]
    }
   ],
   "source": [
    "# Finding Specific item from list--\n",
    "\n",
    "shopping_list = [\"apples\", \"bananas\", \"bread\", \"milk\", \"cheese\"]\n",
    "\n",
    "for item in shopping_list:\n",
    "    if item == \"bread\":\n",
    "        print(\"Found bread!\")\n",
    "        break  # Exit the loop since we found what we were looking for\n",
    "    else:\n",
    "        print(item, \"is not bread.\")"
   ]
  },
  {
   "cell_type": "code",
   "execution_count": 7,
   "id": "143a949c-50c2-49c5-a8c7-1a22efdfdc82",
   "metadata": {},
   "outputs": [
    {
     "name": "stdin",
     "output_type": "stream",
     "text": [
      "Enter 'q' to quit:  5\n"
     ]
    },
    {
     "name": "stdout",
     "output_type": "stream",
     "text": [
      "You entered: 5\n"
     ]
    },
    {
     "name": "stdin",
     "output_type": "stream",
     "text": [
      "Enter 'q' to quit:  subscribe\n"
     ]
    },
    {
     "name": "stdout",
     "output_type": "stream",
     "text": [
      "You entered: subscribe\n"
     ]
    },
    {
     "name": "stdin",
     "output_type": "stream",
     "text": [
      "Enter 'q' to quit:  q\n"
     ]
    },
    {
     "name": "stdout",
     "output_type": "stream",
     "text": [
      "Exiting program.\n"
     ]
    }
   ],
   "source": [
    "while True:  # This loop runs forever...\n",
    "    user_input = input(\"Enter 'q' to quit: \")\n",
    "    if user_input == 'q':\n",
    "        print(\"Exiting program.\")\n",
    "        break  # ...unless the user enters 'q'\n",
    "    else:\n",
    "        print(\"You entered:\", user_input)"
   ]
  },
  {
   "cell_type": "code",
   "execution_count": 8,
   "id": "ca59afab-d205-4ba0-9659-6a47e1ea28d4",
   "metadata": {},
   "outputs": [
    {
     "name": "stdout",
     "output_type": "stream",
     "text": [
      "1\n",
      "3\n",
      "5\n",
      "7\n",
      "9\n"
     ]
    }
   ],
   "source": [
    "# continue statement\n",
    "\n",
    "count = 0\n",
    "while count < 10:\n",
    "    count += 1\n",
    "    if count % 2 == 0:\n",
    "        continue\n",
    "    print(count)"
   ]
  },
  {
   "cell_type": "code",
   "execution_count": 13,
   "id": "7514b58b-0a7a-446d-8048-923e22317cd8",
   "metadata": {},
   "outputs": [
    {
     "name": "stdout",
     "output_type": "stream",
     "text": [
      "2\n",
      "4\n",
      "6\n",
      "8\n",
      "10\n"
     ]
    }
   ],
   "source": [
    "#Printing only even numbers\n",
    "\n",
    "for i in range(1, 11):\n",
    "    if i % 2 != 0:  # If the number is odd\n",
    "        continue  # Skip to the next number\n",
    "    print(i)  # Print only if the number is even"
   ]
  },
  {
   "cell_type": "code",
   "execution_count": 16,
   "id": "7f8183e2-1efd-43d1-95f5-c8d5c809c041",
   "metadata": {},
   "outputs": [
    {
     "name": "stdout",
     "output_type": "stream",
     "text": [
      "Processing: 20\n",
      "Processing: 40\n",
      "Skipping invalid data: error\n",
      "Processing: 60\n",
      "Processing: 80\n",
      "Skipping invalid data: invalid\n",
      "Processing: 100\n"
     ]
    }
   ],
   "source": [
    "#Processing data while ignoring invalid entries\n",
    "\n",
    "data = [10, 20, \"error\", 30, 40, \"invalid\", 50]\n",
    "\n",
    "for value in data:\n",
    "    if isinstance(value, str):  # If the value is a string (not a number)\n",
    "        print(\"Skipping invalid data:\", value)\n",
    "        continue  # Skip to the next value\n",
    "    # Process the valid numerical data\n",
    "    print(\"Processing:\", value * 2)"
   ]
  },
  {
   "cell_type": "code",
   "execution_count": null,
   "id": "018ebd7b-d072-4141-a52c-1432b884e1b8",
   "metadata": {},
   "outputs": [],
   "source": []
  }
 ],
 "metadata": {
  "kernelspec": {
   "display_name": "Python 3 (ipykernel)",
   "language": "python",
   "name": "python3"
  },
  "language_info": {
   "codemirror_mode": {
    "name": "ipython",
    "version": 3
   },
   "file_extension": ".py",
   "mimetype": "text/x-python",
   "name": "python",
   "nbconvert_exporter": "python",
   "pygments_lexer": "ipython3",
   "version": "3.11.7"
  }
 },
 "nbformat": 4,
 "nbformat_minor": 5
}
