{
 "cells": [
  {
   "cell_type": "markdown",
   "id": "4fac8c21-9257-47eb-840c-7c20e5db92c1",
   "metadata": {},
   "source": [
    "# Lists"
   ]
  },
  {
   "cell_type": "markdown",
   "id": "3e55a1b5-e79e-4daa-831b-6ae1a785ed59",
   "metadata": {},
   "source": [
    "syntax = [What ever elements come inside square braces[] they are called lists.]"
   ]
  },
  {
   "cell_type": "code",
   "execution_count": 1,
   "id": "1b2a502a-188b-4d06-9940-24d13b328c11",
   "metadata": {},
   "outputs": [
    {
     "data": {
      "text/plain": [
       "[1, 2, 3, 4, 5]"
      ]
     },
     "execution_count": 1,
     "metadata": {},
     "output_type": "execute_result"
    }
   ],
   "source": [
    "# List type -1 integers List\n",
    "\n",
    "l = [1,2,3,4,5]\n",
    "l"
   ]
  },
  {
   "cell_type": "code",
   "execution_count": 2,
   "id": "2526bbb9-18fc-4deb-9cec-a087e7f2bdfb",
   "metadata": {},
   "outputs": [
    {
     "data": {
      "text/plain": [
       "list"
      ]
     },
     "execution_count": 2,
     "metadata": {},
     "output_type": "execute_result"
    }
   ],
   "source": [
    "type(l)"
   ]
  },
  {
   "cell_type": "code",
   "execution_count": 3,
   "id": "6f967b01-1706-48be-a0b6-1ae47d275071",
   "metadata": {},
   "outputs": [
    {
     "data": {
      "text/plain": [
       "['like', 'share', 'subscribe']"
      ]
     },
     "execution_count": 3,
     "metadata": {},
     "output_type": "execute_result"
    }
   ],
   "source": [
    "# List type -1 String List\n",
    "\n",
    "l1 = ['like','share','subscribe']\n",
    "l1"
   ]
  },
  {
   "cell_type": "code",
   "execution_count": 4,
   "id": "e14215db-f3fe-4be6-90a2-d92733ba9860",
   "metadata": {},
   "outputs": [
    {
     "data": {
      "text/plain": [
       "list"
      ]
     },
     "execution_count": 4,
     "metadata": {},
     "output_type": "execute_result"
    }
   ],
   "source": [
    "type(l1)"
   ]
  },
  {
   "cell_type": "code",
   "execution_count": 12,
   "id": "bd2f18b6-f27b-403d-9e6f-406813db1582",
   "metadata": {},
   "outputs": [
    {
     "data": {
      "text/plain": [
       "['i', 'have', 1000, 'Subscribers', 'in', 1.5, 'years']"
      ]
     },
     "execution_count": 12,
     "metadata": {},
     "output_type": "execute_result"
    }
   ],
   "source": [
    " # Creating a list type-3 with mixed data types\n",
    "\n",
    "lm = ['i', 'have',1000,'Subscribers','in',1.5, 'years']\n",
    "lm"
   ]
  },
  {
   "cell_type": "code",
   "execution_count": 13,
   "id": "66b9eedb-b201-4a56-89c6-1196413b8178",
   "metadata": {},
   "outputs": [
    {
     "data": {
      "text/plain": [
       "1000"
      ]
     },
     "execution_count": 13,
     "metadata": {},
     "output_type": "execute_result"
    }
   ],
   "source": [
    "#accessing Elemints in list...\n",
    "#forward access of elements =0 & reverse/backward access of list starts from -1 index\n",
    "\n",
    "lm[2]"
   ]
  },
  {
   "cell_type": "code",
   "execution_count": 14,
   "id": "39631f73-9315-4e1f-8f69-e11dd60d9ccf",
   "metadata": {},
   "outputs": [
    {
     "data": {
      "text/plain": [
       "1.5"
      ]
     },
     "execution_count": 14,
     "metadata": {},
     "output_type": "execute_result"
    }
   ],
   "source": [
    "lm[-2]"
   ]
  },
  {
   "cell_type": "code",
   "execution_count": 15,
   "id": "cd5e7262-dc2f-406c-86e6-a4a6a0c2f771",
   "metadata": {},
   "outputs": [
    {
     "data": {
      "text/plain": [
       "['saikumarreddy', 'have', 1000, 'Subscribers', 'in', 1.5, 'years']"
      ]
     },
     "execution_count": 15,
     "metadata": {},
     "output_type": "execute_result"
    }
   ],
   "source": [
    "lm[0] = \"saikumarreddy\"\n",
    "lm"
   ]
  },
  {
   "cell_type": "code",
   "execution_count": 16,
   "id": "69b960a0-8f63-4c61-a9c9-96a6b5c8b4e0",
   "metadata": {},
   "outputs": [
    {
     "data": {
      "text/plain": [
       "['saikumarreddy',\n",
       " 'have',\n",
       " 1000,\n",
       " 'Subscribers',\n",
       " 'in',\n",
       " 1.5,\n",
       " 'years',\n",
       " 'at youtube']"
      ]
     },
     "execution_count": 16,
     "metadata": {},
     "output_type": "execute_result"
    }
   ],
   "source": [
    "#append elements...\n",
    "lm.append(\"at youtube\")\n",
    "lm"
   ]
  },
  {
   "cell_type": "code",
   "execution_count": 17,
   "id": "3afaada9-8a2f-4466-b21b-ea5d22d3cc04",
   "metadata": {},
   "outputs": [
    {
     "name": "stdout",
     "output_type": "stream",
     "text": [
      "['saikumarreddy', 'have', 1000, 'Subscribers', 'in', 1.5, 'years', 'at youtube']\n"
     ]
    }
   ],
   "source": [
    "print(lm)"
   ]
  },
  {
   "cell_type": "code",
   "execution_count": 18,
   "id": "c5af7bb3-bdd2-4069-9e9e-5b1610b7742b",
   "metadata": {},
   "outputs": [
    {
     "data": {
      "text/plain": [
       "['saikumarreddy', 'have', 'Subscribers', 'in', 1.5, 'years', 'at youtube']"
      ]
     },
     "execution_count": 18,
     "metadata": {},
     "output_type": "execute_result"
    }
   ],
   "source": [
    "#remove elements\n",
    "\n",
    "lm.remove(1000)\n",
    "lm"
   ]
  },
  {
   "cell_type": "code",
   "execution_count": 19,
   "id": "2069fac4-e51c-4f09-a80a-b73e1d1487b0",
   "metadata": {},
   "outputs": [
    {
     "name": "stdout",
     "output_type": "stream",
     "text": [
      "[1, 2, 3, 4, 5, 6]\n"
     ]
    }
   ],
   "source": [
    "# Concatenation\n",
    "list1 = [1, 2, 3]\n",
    "list2 = [4, 5, 6]\n",
    "combined_list = list1 + list2\n",
    "print(combined_list)"
   ]
  },
  {
   "cell_type": "code",
   "execution_count": 21,
   "id": "87affd64-0dad-4ff7-855b-7322bdb454e2",
   "metadata": {},
   "outputs": [
    {
     "name": "stdout",
     "output_type": "stream",
     "text": [
      "[1, 2, 3, 1, 2, 3, 1, 2, 3, 1, 2, 3, 1, 2, 3, 1, 2, 3]\n"
     ]
    }
   ],
   "source": [
    " # Repetition\n",
    "repeated_list = list1 * 6\n",
    "print(repeated_list)"
   ]
  },
  {
   "cell_type": "code",
   "execution_count": 22,
   "id": "3e037ac3-9b10-4846-998e-d2e7f12c858b",
   "metadata": {},
   "outputs": [
    {
     "data": {
      "text/plain": [
       "[3, 4, 5]"
      ]
     },
     "execution_count": 22,
     "metadata": {},
     "output_type": "execute_result"
    }
   ],
   "source": [
    "# Slicing\n",
    "sliced_list = combined_list[2:5]\n",
    "sliced_list"
   ]
  },
  {
   "cell_type": "code",
   "execution_count": 23,
   "id": "1015adc3-1627-4e1c-a05c-073f75d49756",
   "metadata": {},
   "outputs": [
    {
     "name": "stdout",
     "output_type": "stream",
     "text": [
      "['apple', 'banana', 'cherry', 'orange']\n"
     ]
    }
   ],
   "source": [
    "# Extend list\n",
    "fruits_2 = [\"apple\", \"banana\"]\n",
    "more_fruits = [\"cherry\", \"orange\"]\n",
    "fruits_2.extend(more_fruits)\n",
    "print(fruits_2)"
   ]
  },
  {
   "cell_type": "code",
   "execution_count": 25,
   "id": "511a4f95-b1d7-4c12-8338-8b7c1f4bc43a",
   "metadata": {},
   "outputs": [
    {
     "name": "stdout",
     "output_type": "stream",
     "text": [
      "['kiwi', 'apple', 'banana', 'cherry']\n"
     ]
    }
   ],
   "source": [
    "#Insert operation\n",
    "fruits_3 = [\"apple\", \"banana\", \"cherry\"]\n",
    "fruits_3.insert(0, \"kiwi\")\n",
    "print(fruits_3)"
   ]
  },
  {
   "cell_type": "code",
   "execution_count": 26,
   "id": "3cc811f4-c77b-469a-9a0e-90c335a58b6f",
   "metadata": {},
   "outputs": [
    {
     "name": "stdout",
     "output_type": "stream",
     "text": [
      "['apple', 'cherry']\n"
     ]
    }
   ],
   "source": [
    "#remove elements\n",
    "fruits_4 = [\"apple\", \"banana\", \"cherry\"]\n",
    "fruits_4.remove(\"banana\")\n",
    "print(fruits_4)"
   ]
  },
  {
   "cell_type": "code",
   "execution_count": 27,
   "id": "705d554f-fc76-4531-8be3-eb981c9795ea",
   "metadata": {},
   "outputs": [
    {
     "name": "stdout",
     "output_type": "stream",
     "text": [
      "banana\n",
      "['apple', 'cherry']\n"
     ]
    }
   ],
   "source": [
    "#pop operation\n",
    "fruits_5 = [\"apple\", \"banana\", \"cherry\"]\n",
    "removed_fruit = fruits_5.pop(1)\n",
    "print(removed_fruit) # Output: banana\n",
    "print(fruits_5)"
   ]
  },
  {
   "cell_type": "code",
   "execution_count": 28,
   "id": "95152bb9-68ca-462c-b529-7655412a3f72",
   "metadata": {},
   "outputs": [
    {
     "name": "stdout",
     "output_type": "stream",
     "text": [
      "[]\n"
     ]
    }
   ],
   "source": [
    "#remove elements and put in trash. clear\n",
    "fruits_6 = [\"apple\", \"banana\", \"cherry\"]\n",
    "fruits_6.clear()\n",
    "print(fruits_6)"
   ]
  },
  {
   "cell_type": "code",
   "execution_count": 29,
   "id": "432b1027-e90a-4c79-8633-a2093c2b2729",
   "metadata": {},
   "outputs": [
    {
     "name": "stdout",
     "output_type": "stream",
     "text": [
      "3\n"
     ]
    }
   ],
   "source": [
    "# finding index\n",
    "fruits_7 = [\"apple\", \"banana\", \"cherry\", \"kiwi\",\"pine apple\"]\n",
    "index = fruits_7.index(\"kiwi\")\n",
    "print(index)"
   ]
  },
  {
   "cell_type": "code",
   "execution_count": 30,
   "id": "dbfae9f4-826b-4bc1-85fe-8b95a0fda7ff",
   "metadata": {},
   "outputs": [
    {
     "name": "stdout",
     "output_type": "stream",
     "text": [
      "3\n"
     ]
    }
   ],
   "source": [
    "# counting occurance\n",
    "fruits_8 = [\"banana\",\"apple\", \"banana\", \"cherry\", \"banana\"]\n",
    "count = fruits_8.count(\"banana\")\n",
    "print(count)"
   ]
  },
  {
   "cell_type": "code",
   "execution_count": 31,
   "id": "a60a98fa-ed4b-434b-85da-be643a8e18e6",
   "metadata": {},
   "outputs": [
    {
     "name": "stdout",
     "output_type": "stream",
     "text": [
      "[1, 2, 4, 9]\n"
     ]
    }
   ],
   "source": [
    "#sorting elements in order\n",
    "numbers_9 = [4, 2, 9, 1]\n",
    "numbers_9.sort()\n",
    "print(numbers_9)"
   ]
  },
  {
   "cell_type": "code",
   "execution_count": 32,
   "id": "51d11cac-5c6a-4564-b1f5-0f1c1d3fc5bc",
   "metadata": {},
   "outputs": [
    {
     "name": "stdout",
     "output_type": "stream",
     "text": [
      "[1, 9, 2, 4]\n"
     ]
    }
   ],
   "source": [
    "#reversing elements\n",
    "numbers_10 = [4, 2, 9, 1]\n",
    "numbers_10.reverse()\n",
    "print(numbers_10)"
   ]
  },
  {
   "cell_type": "code",
   "execution_count": 33,
   "id": "29666782-ddf5-4f6f-a9ba-f575d260416d",
   "metadata": {},
   "outputs": [
    {
     "name": "stdout",
     "output_type": "stream",
     "text": [
      "['apple', 'banana', 'cherry']\n"
     ]
    }
   ],
   "source": [
    "#coping elements like copying in exam\n",
    "fruits_11 = [\"apple\", \"banana\", \"cherry\"]\n",
    "fruits_copy = fruits_11.copy()\n",
    "print(fruits_copy)"
   ]
  },
  {
   "cell_type": "code",
   "execution_count": 34,
   "id": "5a73dc12-193e-4a84-92f3-f4e4819a70f7",
   "metadata": {},
   "outputs": [
    {
     "data": {
      "text/plain": [
       "['apple', 'banana', 'cherry']"
      ]
     },
     "execution_count": 34,
     "metadata": {},
     "output_type": "execute_result"
    }
   ],
   "source": [
    "fruits_copy"
   ]
  },
  {
   "cell_type": "markdown",
   "id": "be145634-923d-44cb-91c1-cecb807c81b8",
   "metadata": {},
   "source": [
    "## example"
   ]
  },
  {
   "cell_type": "code",
   "execution_count": 39,
   "id": "e6b930f2-2714-44c7-a806-8df4165c3131",
   "metadata": {},
   "outputs": [
    {
     "name": "stdout",
     "output_type": "stream",
     "text": [
      "Shopping List:\n",
      "- milk\n",
      "- eggs\n",
      "- cherry\n"
     ]
    }
   ],
   "source": [
    "# Initialize an empty shopping list\n",
    "shopping_list = []\n",
    "# Add items to the shopping list\n",
    "shopping_list.append(\"milk\")\n",
    "shopping_list.append(\"bread\")\n",
    "shopping_list.append(\"eggs\")\n",
    "shopping_list.append(\"banana\")\n",
    "shopping_list.append(\"cherry\")\n",
    "# Remove an item from the shopping list\n",
    "shopping_list.remove(\"bread\")\n",
    "shopping_list.remove(\"banana\")\n",
    "# View the shopping list\n",
    "print(\"Shopping List:\")\n",
    "for item in shopping_list:\n",
    "    print(f\"- {item}\")"
   ]
  },
  {
   "cell_type": "code",
   "execution_count": null,
   "id": "155e9601-5fe0-4aa4-b15e-aab145c394fe",
   "metadata": {},
   "outputs": [],
   "source": []
  }
 ],
 "metadata": {
  "kernelspec": {
   "display_name": "Python 3 (ipykernel)",
   "language": "python",
   "name": "python3"
  },
  "language_info": {
   "codemirror_mode": {
    "name": "ipython",
    "version": 3
   },
   "file_extension": ".py",
   "mimetype": "text/x-python",
   "name": "python",
   "nbconvert_exporter": "python",
   "pygments_lexer": "ipython3",
   "version": "3.11.7"
  }
 },
 "nbformat": 4,
 "nbformat_minor": 5
}
