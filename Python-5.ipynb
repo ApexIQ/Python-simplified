{
 "cells": [
  {
   "cell_type": "code",
   "execution_count": 1,
   "id": "545d4fdf-360e-47d3-af79-f895952de5c0",
   "metadata": {},
   "outputs": [
    {
     "name": "stdout",
     "output_type": "stream",
     "text": [
      "Hello World!\n"
     ]
    }
   ],
   "source": [
    "print(\"Hello World!\")"
   ]
  },
  {
   "cell_type": "code",
   "execution_count": 2,
   "id": "45ca94dd-a877-49d3-a917-abc678067db8",
   "metadata": {},
   "outputs": [
    {
     "name": "stdout",
     "output_type": "stream",
     "text": [
      "Hello Python Developers!\n"
     ]
    }
   ],
   "source": [
    "print(\"Hello Python Developers!\")"
   ]
  },
  {
   "cell_type": "markdown",
   "id": "c1f90060-06d3-4f2e-8150-0bc29ee653ea",
   "metadata": {},
   "source": [
    "# Variables In Python"
   ]
  },
  {
   "cell_type": "code",
   "execution_count": 3,
   "id": "dd89459d-b051-4079-9651-8ab7fc21f31c",
   "metadata": {},
   "outputs": [],
   "source": [
    "# to define a particular variable example below:\n",
    "Name = \"Sai\""
   ]
  },
  {
   "cell_type": "code",
   "execution_count": 7,
   "id": "61d98682-2e5d-44cf-8307-031b588e7f0f",
   "metadata": {},
   "outputs": [
    {
     "name": "stdout",
     "output_type": "stream",
     "text": [
      "Sai\n"
     ]
    }
   ],
   "source": [
    "print(Name)"
   ]
  },
  {
   "cell_type": "code",
   "execution_count": 5,
   "id": "2fcbef4e-965e-4b0c-9a0d-c11130488162",
   "metadata": {},
   "outputs": [
    {
     "name": "stdout",
     "output_type": "stream",
     "text": [
      "to define a particular variable example below:\n"
     ]
    }
   ],
   "source": [
    "_name = \"to define a particular variable example below:\"\n",
    "print(_name)"
   ]
  },
  {
   "cell_type": "code",
   "execution_count": 11,
   "id": "ace53a8b-e32b-4c6d-af41-57cdf7503563",
   "metadata": {},
   "outputs": [
    {
     "name": "stdout",
     "output_type": "stream",
     "text": [
      "65\n"
     ]
    }
   ],
   "source": [
    "_95 = 65\n",
    "print(_95)"
   ]
  },
  {
   "cell_type": "markdown",
   "id": "53b7a13a-3a08-4330-af66-402aec10f93f",
   "metadata": {},
   "source": [
    "# Data Types in Python\n",
    "\n",
    "## INT"
   ]
  },
  {
   "cell_type": "code",
   "execution_count": 13,
   "id": "c8655ce5-7e26-4bae-a186-22dded220ebf",
   "metadata": {},
   "outputs": [
    {
     "name": "stdout",
     "output_type": "stream",
     "text": [
      "<class 'int'>\n",
      "<class 'int'>\n"
     ]
    }
   ],
   "source": [
    "Age = 25\n",
    "Quantity =-10\n",
    "print(type(Age)) \n",
    "print(type(Quantity)) "
   ]
  },
  {
   "cell_type": "code",
   "execution_count": 14,
   "id": "bd2eb6b4-e9d0-4097-90f0-55bd1a451494",
   "metadata": {},
   "outputs": [
    {
     "data": {
      "text/plain": [
       "int"
      ]
     },
     "execution_count": 14,
     "metadata": {},
     "output_type": "execute_result"
    }
   ],
   "source": [
    "type(Age)"
   ]
  },
  {
   "cell_type": "code",
   "execution_count": 15,
   "id": "8876dfe7-6c35-44bb-923a-46a9efd6aa6f",
   "metadata": {},
   "outputs": [
    {
     "name": "stdout",
     "output_type": "stream",
     "text": [
      "-10\n"
     ]
    }
   ],
   "source": [
    "print(Quantity)"
   ]
  },
  {
   "cell_type": "markdown",
   "id": "53eb94f3-3c7d-403f-af0b-bb20ce71ebcf",
   "metadata": {},
   "source": [
    "## FLOAT"
   ]
  },
  {
   "cell_type": "code",
   "execution_count": 16,
   "id": "380ce238-7bc2-480a-8580-bc9506dc37c6",
   "metadata": {},
   "outputs": [
    {
     "name": "stdout",
     "output_type": "stream",
     "text": [
      "<class 'float'>\n",
      "<class 'float'>\n"
     ]
    }
   ],
   "source": [
    " price = 19.99\n",
    " weight = 2.5\n",
    " print(type(price)) \n",
    " print(type(weight))"
   ]
  },
  {
   "cell_type": "code",
   "execution_count": 17,
   "id": "2ca1a978-ecd8-4385-82c2-22b39a976a63",
   "metadata": {},
   "outputs": [
    {
     "data": {
      "text/plain": [
       "float"
      ]
     },
     "execution_count": 17,
     "metadata": {},
     "output_type": "execute_result"
    }
   ],
   "source": [
    "type(price)"
   ]
  },
  {
   "cell_type": "code",
   "execution_count": 18,
   "id": "308314e7-93df-4e4e-b4e8-d8a8d10b3764",
   "metadata": {},
   "outputs": [],
   "source": [
    "a = 108.99"
   ]
  },
  {
   "cell_type": "code",
   "execution_count": 19,
   "id": "4b1a7ddb-19c9-4b07-be5d-8f259db631fd",
   "metadata": {},
   "outputs": [
    {
     "name": "stdout",
     "output_type": "stream",
     "text": [
      "108.99\n"
     ]
    }
   ],
   "source": [
    "print(a)"
   ]
  },
  {
   "cell_type": "code",
   "execution_count": 20,
   "id": "02c84ed2-c172-4181-ab0e-dfea5cf8c6b4",
   "metadata": {},
   "outputs": [
    {
     "data": {
      "text/plain": [
       "float"
      ]
     },
     "execution_count": 20,
     "metadata": {},
     "output_type": "execute_result"
    }
   ],
   "source": [
    "type(a)"
   ]
  },
  {
   "cell_type": "markdown",
   "id": "c675dade-0de1-41a9-a1a2-6c2fea634b01",
   "metadata": {},
   "source": [
    "## String"
   ]
  },
  {
   "cell_type": "code",
   "execution_count": 21,
   "id": "325858ee-b17c-4b19-b3d2-a0520533c2d7",
   "metadata": {},
   "outputs": [],
   "source": [
    "name = \"SAI\""
   ]
  },
  {
   "cell_type": "code",
   "execution_count": 22,
   "id": "f5ce1390-5d50-4784-8532-4ecf8434fe5c",
   "metadata": {},
   "outputs": [
    {
     "data": {
      "text/plain": [
       "str"
      ]
     },
     "execution_count": 22,
     "metadata": {},
     "output_type": "execute_result"
    }
   ],
   "source": [
    "type(name)"
   ]
  },
  {
   "cell_type": "code",
   "execution_count": 24,
   "id": "5459830b-3e87-46a5-88d7-2c4cd2f97aa5",
   "metadata": {},
   "outputs": [],
   "source": [
    "address = 'bengaluru'"
   ]
  },
  {
   "cell_type": "code",
   "execution_count": 26,
   "id": "8bcba355-5947-476b-a9e7-c6818b1fe080",
   "metadata": {},
   "outputs": [
    {
     "data": {
      "text/plain": [
       "str"
      ]
     },
     "execution_count": 26,
     "metadata": {},
     "output_type": "execute_result"
    }
   ],
   "source": [
    "type(address)"
   ]
  },
  {
   "cell_type": "markdown",
   "id": "4bf5994f-b225-445f-af07-a4157f3191fa",
   "metadata": {},
   "source": [
    "## Boolean"
   ]
  },
  {
   "cell_type": "code",
   "execution_count": 27,
   "id": "8b4b5097-cedc-40b4-9cf0-b858c50cb023",
   "metadata": {},
   "outputs": [],
   "source": [
    "student = True"
   ]
  },
  {
   "cell_type": "code",
   "execution_count": 28,
   "id": "f6111803-1e18-474e-bc81-22725ba59d05",
   "metadata": {},
   "outputs": [
    {
     "data": {
      "text/plain": [
       "bool"
      ]
     },
     "execution_count": 28,
     "metadata": {},
     "output_type": "execute_result"
    }
   ],
   "source": [
    "type(student)"
   ]
  },
  {
   "cell_type": "code",
   "execution_count": 32,
   "id": "75d444ed-ec67-441a-9a57-6c778658f898",
   "metadata": {},
   "outputs": [
    {
     "data": {
      "text/plain": [
       "False"
      ]
     },
     "execution_count": 32,
     "metadata": {},
     "output_type": "execute_result"
    }
   ],
   "source": [
    "56 == 5"
   ]
  },
  {
   "cell_type": "code",
   "execution_count": 33,
   "id": "f0026a1e-8cef-48a6-93c4-38941525b72f",
   "metadata": {},
   "outputs": [
    {
     "data": {
      "text/plain": [
       "True"
      ]
     },
     "execution_count": 33,
     "metadata": {},
     "output_type": "execute_result"
    }
   ],
   "source": [
    "56 == 56"
   ]
  },
  {
   "cell_type": "code",
   "execution_count": null,
   "id": "64cae0cb-9878-4f39-9efd-b91a9daae4b4",
   "metadata": {},
   "outputs": [],
   "source": []
  }
 ],
 "metadata": {
  "kernelspec": {
   "display_name": "Python 3 (ipykernel)",
   "language": "python",
   "name": "python3"
  },
  "language_info": {
   "codemirror_mode": {
    "name": "ipython",
    "version": 3
   },
   "file_extension": ".py",
   "mimetype": "text/x-python",
   "name": "python",
   "nbconvert_exporter": "python",
   "pygments_lexer": "ipython3",
   "version": "3.11.7"
  }
 },
 "nbformat": 4,
 "nbformat_minor": 5
}
